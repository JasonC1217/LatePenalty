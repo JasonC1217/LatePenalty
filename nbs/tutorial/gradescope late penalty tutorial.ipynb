{
 "cells": [
  {
   "cell_type": "markdown",
   "id": "d06d4099",
   "metadata": {},
   "source": [
    "# gradescope late penalty tutorial\n",
    "\n",
    "> This module process the gradescope generated csv grades files and the output directories, and use canvas api to post grade to students, with late penalty and the messages."
   ]
  },
  {
   "cell_type": "code",
   "execution_count": null,
   "id": "d85df7ee",
   "metadata": {},
   "outputs": [],
   "source": [
    "#| hide\n",
    "from nbdev.showdoc import *"
   ]
  },
  {
   "cell_type": "markdown",
   "id": "4c82cb5b",
   "metadata": {},
   "source": [
    "## Authentication & Initialization\n",
    "\n",
    "To use the canvas API functionalities, you will have to provide API credentials in order to communicate to canvas. For more details, visit [`how to set credentials`](../#how-set-credentials)\n",
    "\n",
    "Be sure to provide with the correct `course_id` and `assignment_id` of your target assignment to the `gradescope_grade` object. You can also double check in the output message of whether you have provided the correct credentials, course, and assignment to the object. "
   ]
  },
  {
   "cell_type": "code",
   "execution_count": null,
   "id": "a194262c",
   "metadata": {},
   "outputs": [],
   "source": [
    "from LatePenalty.gradescope import gradescope_grade"
   ]
  },
  {
   "cell_type": "code",
   "execution_count": null,
   "id": "5c731fbb",
   "metadata": {},
   "outputs": [
    {
     "name": "stdout",
     "output_type": "stream",
     "text": [
      "\u001b[92mAuthorization Successful!\u001b[0m\n",
      "Course Set: \u001b[92m COGS 118A - Supvr/Mach Learning Algorithms - Fleischer [SP23] \u001b[0m\n",
      "Getting List of Users... This might take a while...\n",
      "Users Fetch Complete! The course has \u001b[94m169\u001b[0m users.\n",
      "Assignment \u001b[92mA1\u001b[0m Link!\n"
     ]
    }
   ],
   "source": [
    "grade = gradescope_grade(\"../../../credentials.json\",\n",
    "                         course_id=45059,\n",
    "                         assignment_id=641795,\n",
    "                         gradescope_fp=\"../data/gradescope_example.csv\",\n",
    "                         verbosity=1,\n",
    "                        )"
   ]
  },
  {
   "cell_type": "markdown",
   "id": "5d1fc582",
   "metadata": {},
   "source": [
    "The gradescope generated csv file will look something like the following. For each assignment, the score and lateness are recorded. We can use those information to calculate the late day balance and to apply appropriate late penalties to student. "
   ]
  },
  {
   "cell_type": "markdown",
   "id": "0c8dfa91",
   "metadata": {},
   "source": [
    "## Understand the Gradescope Export csv File"
   ]
  },
  {
   "cell_type": "code",
   "execution_count": null,
   "id": "d748973f",
   "metadata": {},
   "outputs": [
    {
     "data": {
      "text/html": [
       "<div>\n",
       "<style scoped>\n",
       "    .dataframe tbody tr th:only-of-type {\n",
       "        vertical-align: middle;\n",
       "    }\n",
       "\n",
       "    .dataframe tbody tr th {\n",
       "        vertical-align: top;\n",
       "    }\n",
       "\n",
       "    .dataframe thead th {\n",
       "        text-align: right;\n",
       "    }\n",
       "</style>\n",
       "<table border=\"1\" class=\"dataframe\">\n",
       "  <thead>\n",
       "    <tr style=\"text-align: right;\">\n",
       "      <th></th>\n",
       "      <th>First Name</th>\n",
       "      <th>Last Name</th>\n",
       "      <th>SID</th>\n",
       "      <th>Assignment 1</th>\n",
       "      <th>Assignment 1 - Manual Grading</th>\n",
       "      <th>Assignment 1 - Lateness (H:M:S)</th>\n",
       "    </tr>\n",
       "    <tr>\n",
       "      <th>Email</th>\n",
       "      <th></th>\n",
       "      <th></th>\n",
       "      <th></th>\n",
       "      <th></th>\n",
       "      <th></th>\n",
       "      <th></th>\n",
       "    </tr>\n",
       "  </thead>\n",
       "  <tbody>\n",
       "    <tr>\n",
       "      <th>kkdwdx</th>\n",
       "      <td>FVPqOMpv</td>\n",
       "      <td>jhjx</td>\n",
       "      <td>zPBPCJwDL</td>\n",
       "      <td>0.650</td>\n",
       "      <td>1.8</td>\n",
       "      <td>24:01:41</td>\n",
       "    </tr>\n",
       "    <tr>\n",
       "      <th>JhThhnUaOPDUIEb</th>\n",
       "      <td>BVTLaj</td>\n",
       "      <td>JL</td>\n",
       "      <td>bJhgVCFRz</td>\n",
       "      <td>0.900</td>\n",
       "      <td>2.1</td>\n",
       "      <td>00:00:00</td>\n",
       "    </tr>\n",
       "    <tr>\n",
       "      <th>dbAbqg</th>\n",
       "      <td>uaNTaJHacrK</td>\n",
       "      <td>PNrEkH</td>\n",
       "      <td>DqEMLsESM</td>\n",
       "      <td>0.475</td>\n",
       "      <td>1.9</td>\n",
       "      <td>00:00:00</td>\n",
       "    </tr>\n",
       "  </tbody>\n",
       "</table>\n",
       "</div>"
      ],
      "text/plain": [
       "                  First Name Last Name        SID  Assignment 1  \\\n",
       "Email                                                             \n",
       "kkdwdx              FVPqOMpv      jhjx  zPBPCJwDL         0.650   \n",
       "JhThhnUaOPDUIEb       BVTLaj        JL  bJhgVCFRz         0.900   \n",
       "dbAbqg           uaNTaJHacrK    PNrEkH  DqEMLsESM         0.475   \n",
       "\n",
       "                 Assignment 1 - Manual Grading Assignment 1 - Lateness (H:M:S)  \n",
       "Email                                                                           \n",
       "kkdwdx                                     1.8                        24:01:41  \n",
       "JhThhnUaOPDUIEb                            2.1                        00:00:00  \n",
       "dbAbqg                                     1.9                        00:00:00  "
      ]
     },
     "execution_count": null,
     "metadata": {},
     "output_type": "execute_result"
    }
   ],
   "source": [
    "# take a look at the csv file\n",
    "grade.gradescope"
   ]
  },
  {
   "cell_type": "markdown",
   "id": "03e1aefd",
   "metadata": {},
   "source": [
    "From the table, we will be only interested in the target assignment `Assignment 1`, and the Lateness of each student's submission, found in the column `Assignment 1 - Lateness (H:M:S)`.\n",
    "\n",
    "Sometime, an assignment might have multiple components. For example, in COGS 118A, we have a mixture of autograded jupyter notebook and a manual grading component for each assignment. This package will post the summation of score between the components, and use the `target_assignment` to calculate late penalty."
   ]
  },
  {
   "cell_type": "markdown",
   "id": "78f8bc00",
   "metadata": {},
   "source": [
    "## Post Grade\n",
    "\n",
    "Before each post grade, it is nice to do a sanity check before posting to canvas. You can achieve that by specifying `post=False` in the `gradescope_grade.post_to_canvas`"
   ]
  },
  {
   "cell_type": "code",
   "execution_count": null,
   "id": "9b10ba6a",
   "metadata": {},
   "outputs": [
    {
     "name": "stdout",
     "output_type": "stream",
     "text": [
      "Force Posting Disabled. If you need to completely overwrite student scores, please set force=True\n",
      "\u001b[93mPost Disabled\u001b[0m\n",
      "The message is: \n",
      "\u001b[92mAssignment 1: \n",
      "Late Submission: 25 Hours Late\n",
      "Slip Credit Used. No late penalty applied\n",
      "Remaining Slip Credit: 95 Hours\u001b[0m\n",
      "\n",
      "\u001b[93mPost Disabled\u001b[0m\n",
      "The message is: \n",
      "\u001b[92mAssignment 1: \n",
      "Submitted intime\n",
      "Remaining Slip Credit: 120 Hours\u001b[0m\n",
      "\n",
      "\u001b[93mPost Disabled\u001b[0m\n",
      "The message is: \n",
      "\u001b[92mAssignment 1: \n",
      "Submitted intime\n",
      "Remaining Slip Credit: 120 Hours\u001b[0m\n",
      "\n"
     ]
    }
   ],
   "source": [
    "grade.post_to_canvas(\n",
    "    target_assignment=\"Assignment 1\",\n",
    "    passed_assignments=[],\n",
    "    components=[\"Assignment 1\", \"Assignment 1 - Manual Grading\"],\n",
    "    post=False\n",
    ")"
   ]
  },
  {
   "cell_type": "code",
   "execution_count": null,
   "id": "b9aeaeb7",
   "metadata": {},
   "outputs": [],
   "source": []
  }
 ],
 "metadata": {
  "kernelspec": {
   "display_name": "python3",
   "language": "python",
   "name": "python3"
  }
 },
 "nbformat": 4,
 "nbformat_minor": 5
}
