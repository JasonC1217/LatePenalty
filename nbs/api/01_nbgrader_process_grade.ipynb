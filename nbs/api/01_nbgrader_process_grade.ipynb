{
 "cells": [
  {
   "cell_type": "markdown",
   "metadata": {},
   "source": [
    "# nbgrader\n",
    "\n",
    "> This module process the nbgrader generated csv grades files and the output directories, and use canvas api to post grade to students, with late penalty and the messages."
   ]
  },
  {
   "cell_type": "code",
   "execution_count": null,
   "metadata": {},
   "outputs": [],
   "source": [
    "#| default_exp nbgrader"
   ]
  },
  {
   "cell_type": "code",
   "execution_count": null,
   "metadata": {},
   "outputs": [],
   "source": [
    "#| hide\n",
    "from nbdev.showdoc import *"
   ]
  },
  {
   "cell_type": "code",
   "execution_count": null,
   "metadata": {},
   "outputs": [],
   "source": [
    "#| export\n",
    "import canvasapi\n",
    "from canvasapi import Canvas\n",
    "import numpy as np\n",
    "import pandas as pd\n",
    "import json\n",
    "from datetime import datetime\n",
    "import yaml"
   ]
  },
  {
   "cell_type": "code",
   "execution_count": null,
   "metadata": {},
   "outputs": [],
   "source": [
    "#| export\n",
    "#| hide\n",
    "class bcolors:\n",
    "    HEADER = '\\033[95m'\n",
    "    OKBLUE = '\\033[94m'\n",
    "    OKCYAN = '\\033[96m'\n",
    "    OKGREEN = '\\033[92m'\n",
    "    WARNING = '\\033[93m'\n",
    "    FAIL = '\\033[91m'\n",
    "    ENDC = '\\033[0m'\n",
    "    BOLD = '\\033[1m'\n",
    "    UNDERLINE = '\\033[4m'"
   ]
  },
  {
   "cell_type": "code",
   "execution_count": null,
   "metadata": {},
   "outputs": [],
   "source": [
    "#| export\n",
    "class nbgrader_grade:\n",
    "    def __init__(self,\n",
    "                 credentials_fp=\"\", # credential file path. [Template of the credentials.json](https://github.com/FleischerResearchLab/CanvasGroupy/blob/main/nbs/credentials.json)\n",
    "                 late_exception_fp=\"\", # late exception yaml file path. [Template of the late_exception.yaml](https://github.com/scott-yj-yang/GradescopeLatePenalty/tree/main/nbs/api/late_exception.yaml)\n",
    "                 API_URL=\"https://canvas.ucsd.edu\", # the domain name of canvas\n",
    "                 course_id=\"\", # Course ID, can be found in the course url\n",
    "                 assignment_id=-1, # assignment id, can be found in the canvas assignment url\n",
    "                 grades_fp=\"\", # nbgrader csv grades exports file path \n",
    "                 verbosity=0 # Controls the verbosity: 0 = Silent, 1 = print all messages\n",
    "                ):\n",
    "        \"Initialize Canvas Group within a Group Set and its appropriate memberships\"\n",
    "        self.API_URL = API_URL\n",
    "        self.canvas = None\n",
    "        self.course = None\n",
    "        self.users = None\n",
    "        self.email_to_canvas_id = None\n",
    "        self.canvas_id_to_email = None\n",
    "        self.API_KEY = None\n",
    "        self.verbosity = verbosity\n",
    "        self.assignment = None\n",
    "        self.grades = None\n",
    "        self.late_exception = dict()\n",
    "        self.grades_by_assignment = dict()\n",
    "        self.late_days_by_assignment = dict()\n",
    "        \n",
    "        # initialize by the input parameter\n",
    "        if credentials_fp != \"\":\n",
    "            self.auth_canvas(credentials_fp)\n",
    "        if course_id != \"\":\n",
    "            self.set_course(course_id)\n",
    "        if assignment_id != -1:\n",
    "            self.link_assignment(assignment_id)\n",
    "        if late_exception_fp != \"\":\n",
    "            self.load_late_exception(late_exception_fp)\n",
    "        if grades_fp != \"\":\n",
    "            self.load_grades_csv(grades_fp)\n",
    "        \n",
    "    def auth_canvas(self,\n",
    "                    credentials_fp: str # the Authenticator key generated from canvas\n",
    "                   ):\n",
    "        \"Authorize the canvas module with API_KEY\"\n",
    "        with open(credentials_fp, \"r\") as f:\n",
    "            credentials = json.load(f)\n",
    "        self.API_KEY = credentials[\"Canvas Token\"]\n",
    "        self.GITHUB_TOKEN = credentials[\"GitHub Token\"]\n",
    "        self.canvas = Canvas(self.API_URL, self.API_KEY)\n",
    "        # test authorization\n",
    "        _ = self.canvas.get_activity_stream_summary()\n",
    "        if self.verbosity != 0:\n",
    "            print(f\"{bcolors.OKGREEN}Authorization Successful!{bcolors.ENDC}\")\n",
    "        \n",
    "    def set_course(self, \n",
    "                   course_id: int # the course id of the target course\n",
    "                  ):\n",
    "        \"Set the target course by the course ID\"\n",
    "        self.course = self.canvas.get_course(course_id)\n",
    "        if self.verbosity != 0:\n",
    "            print(f\"Course Set: {bcolors.OKGREEN} {self.course.name} {bcolors.ENDC}\")\n",
    "            print(f\"Getting List of Users... This might take a while...\")\n",
    "        self.users = list(self.course.get_users())\n",
    "        if self.verbosity != 0:\n",
    "            print(f\"Users Fetch Complete! The course has {bcolors.OKBLUE}{len(self.users)}{bcolors.ENDC} users.\")\n",
    "        self.email_to_canvas_id = {}\n",
    "        self.canvas_id_to_email = {}\n",
    "        for u in self.users:\n",
    "            try:\n",
    "                self.email_to_canvas_id[u.email.split(\"@\")[0]] = u.id\n",
    "                self.canvas_id_to_email[u.id] = u.email.split(\"@\")[0]\n",
    "            except Exception:\n",
    "                if self.verbosity != 0:\n",
    "                    print(f\"{bcolors.WARNING}Failed to Parse email and id\"\n",
    "                          f\" for {bcolors.UNDERLINE}{u.short_name}{bcolors.ENDC}{bcolors.ENDC}\")\n",
    "\n",
    "    def link_assignment(self,\n",
    "                        assignment_id: int # assignment id, found at the url of assignmnet tab\n",
    "                       ) -> canvasapi.assignment.Assignment: # target assignment\n",
    "        \"Link the target assignment on canvas\"\n",
    "        assignment = self.course.get_assignment(assignment_id)\n",
    "        if self.verbosity != 0:\n",
    "            print(f\"Assignment {bcolors.OKGREEN+assignment.name+bcolors.ENDC} Link!\")\n",
    "        self.assignment = assignment\n",
    "        return assignment\n",
    "                    \n",
    "    def load_grades_csv(self,\n",
    "                        csv_pf:str # csv file path \n",
    "                       ):\n",
    "        \"Load nbgrader exported csv file\"\n",
    "        self.grades = pd.read_csv(csv_pf)\n",
    "        self._parse_assignments()\n",
    "    \n",
    "    def load_late_exception(self,\n",
    "                            yaml_fp:str # yaml file path stores exception student cases\n",
    "                           ):\n",
    "        \"Load Late Exception File\"\n",
    "        with open(yaml_fp, \"r\") as f:\n",
    "            self.late_exception = yaml.safe_load(f)\n",
    "        \n",
    "    def _parse_assignments(self):\n",
    "        \"Parse all assignment by assignment name. And calculate late days used.\"\n",
    "        if len(self.grades) == 0:\n",
    "            raise ValueError(\"grades has not been loaded. Please loaded via self.load_grades_csv\")\n",
    "        assignments = self.grades[\"assignment\"].unique()\n",
    "        # I am just lazy :-)\n",
    "        df = self.grades\n",
    "        for assignment in assignments:\n",
    "            A = df[df[\"assignment\"] == assignment]\n",
    "            # filter those who submitted\n",
    "            A = A[~A[\"timestamp\"].isna()].copy()\n",
    "            # remove the redundant /\n",
    "            A[\"student_id\"] = A[\"student_id\"].str.split(\"/\").str[0]\n",
    "            A = A.set_index(\"student_id\")\n",
    "            slip_day_used = self._calculate_late_days(A)\n",
    "            A[\"slip_day_used\"] = slip_day_used\n",
    "            # store the parsed result\n",
    "            self.grades_by_assignment[assignment] = A\n",
    "            self.late_days_by_assignment[assignment] = A[\"slip_day_used\"]\n",
    "    \n",
    "    def _calculate_late_days(self,\n",
    "                             df:pd.DataFrame # dataframe of a specific assignment\n",
    "                            )-> pd.Series: # late days\n",
    "        # parse the timestamp\n",
    "        duedate_format = \"%Y-%m-%d %H:%M:%S\"\n",
    "        timestamp_format = \"%Y-%m-%d %H:%M:%S.%f\"\n",
    "        df[\"duedate\"] = df[\"duedate\"].apply(lambda x: datetime.strptime(x, duedate_format))\n",
    "        df[\"timestamp\"] = df[\"timestamp\"].apply(lambda x: datetime.strptime(x, timestamp_format))\n",
    "        late_time_delta = (df[\"timestamp\"] - df[\"duedate\"])\n",
    "        # calculate late days, use ReLU\n",
    "        slip_day_used = late_time_delta.apply(lambda x: np.max([np.ceil(x.total_seconds()/60/60/24), 0]))\n",
    "        return slip_day_used\n",
    "    \n",
    "    def get_late_days(self,\n",
    "                      target_assignment:str, # target assignment name. Must in the column of nbgrader assignment csv \n",
    "                      student_id:str # student id\n",
    "                     ) -> int: # late days of the target assignment\n",
    "        \"Calculate the late day of students submission of the target assignment\"\n",
    "        try:\n",
    "            late_day = self.late_days_by_assignment[target_assignment][student_id]\n",
    "        except KeyError:\n",
    "            if self.verbosity != 1:\n",
    "                print(f\"Student {bcolors.WARNING+student_id+bcolors.ENDC} did \"\n",
    "                      f\"not submit {bcolors.WARNING+target_assignment+bcolors.ENDC}\")\n",
    "            late_day = 0\n",
    "        return late_day\n",
    "        \n",
    "    def calculate_credit_balance(self,\n",
    "                                 passed_assignments:[str], # list of passed assignments name. Must in the column of `assignment`.\n",
    "                                 student_id:str, # target student\n",
    "                                 default_credit = 5 # default total number of allowed late days\n",
    "                                ) -> int: # late credit balance of the target student\n",
    "        \"Calculate the balance of late hours from the nbgrader file\"\n",
    "        # if student is in the late exception, use the new number\n",
    "        if student_id in self.late_exception:\n",
    "            default_credit = self.late_exception[student_id][\"allowed_late_days\"]\n",
    "        for passed in passed_assignments:\n",
    "            late_days = self.get_late_days(passed, student_id)\n",
    "            if late_days <= default_credit:\n",
    "                # means this passed assignment did not get penalty\n",
    "                default_credit -= self.get_late_days(passed, student_id)\n",
    "        return default_credit\n",
    "    \n",
    "    def _post_grade(self,\n",
    "                   student_id: int, # canvas student id of student. found in self.email_to_canvas_id\n",
    "                   grade: float, # grade of that assignment\n",
    "                   text_comment=\"\", # text comment of the submission. Can feed\n",
    "                  ) -> canvasapi.submission.Submission: # created submission\n",
    "        \"Post grade and comment to canvas to the target assignment\"\n",
    "        submission = self.assignment.get_submission(student_id)\n",
    "        if grade is not None:\n",
    "            edited = submission.edit(\n",
    "                submission={\n",
    "                    'posted_grade': grade\n",
    "                }, comment={\n",
    "                    'text_comment': text_comment\n",
    "                }\n",
    "            )\n",
    "        else:\n",
    "            edited = submission.edit(\n",
    "                comment={\n",
    "                    'text_comment': text_comment\n",
    "                }\n",
    "            )\n",
    "        if self.verbosity != 0:\n",
    "            print(f\"Grade for {bcolors.OKGREEN+email+bcolors.ENDC} Posted!\")\n",
    "        return edited\n",
    "    \n",
    "    def post_to_canvas(self,\n",
    "                       target_assignment:str, # target assignment name to grab the late time. Must in the column of nbgrader assignment csv \n",
    "                       passed_assignments:[str], # list of passed assignment. Must in the column of nbgrader assignment csv\n",
    "                       post=True, # for testing purposes. Can hault the post operation\n",
    "                      ):\n",
    "        \"Post grade to canvas with late penalty.\"\n",
    "        if self.grades is None:\n",
    "            raise ValueError(\"Nbgrader CSV has not been loaded. Please set it via self.load_grades_csv\")\n",
    "        for student_id, row in self.grades_by_assignment[target_assignment].iterrows():\n",
    "            penalty = False\n",
    "            # fetch useful information\n",
    "            balance = self.calculate_credit_balance(passed_assignments, student_id)\n",
    "            late_days = self.get_late_days(target_assignment, student_id)\n",
    "            score = row[\"raw_score\"]\n",
    "            # build message for each student\n",
    "            message = f\"{target_assignment}: \\n\"\n",
    "            if late_days > 0:\n",
    "                # means late submission. Check remaining slip day\n",
    "                message += f\"Late Submission: {int(late_days)} Days Late\\n\"\n",
    "                if balance - late_days < 0:\n",
    "                    message += \"Insufficient Slip Credit. 25% late penalty applied\\n\"\n",
    "                    score = round(score * 0.75, 4)\n",
    "                    penalty = True\n",
    "                else:\n",
    "                    message += \"Slip Credit Used. No late penalty applied\\n\"\n",
    "            else:\n",
    "                message += \"Submitted intime\\n\"\n",
    "            if not penalty:\n",
    "                # if student did not get penalized and use the slip day\n",
    "                balance_after = balance - late_days\n",
    "            else:\n",
    "                # if the student did get penalized and did not use the slip day\n",
    "                balance_after = balance\n",
    "            message += f\"Remaining Slip Credit: {int(balance_after)} Days\"\n",
    "            try:\n",
    "                if post:\n",
    "                    canvas_student_id = grade.email_to_canvas_id[student_id]\n",
    "                    grade._post_grade(grade=score, student_id=canvas_student_id, text_comment=message)\n",
    "                else:\n",
    "                    print(f\"{bcolors.WARNING}Post Disabled{bcolors.ENDC}\\n\"\n",
    "                          f\"The message for {bcolors.OKCYAN+student_id+bcolors.ENDC} \"\n",
    "                          f\"is: \\n{bcolors.OKGREEN+message+bcolors.ENDC}\\n\"\n",
    "                          f\"The score is {bcolors.OKGREEN}{score}{bcolors.ENDC}\"\n",
    "                         )\n",
    "            except Exception as e:\n",
    "                print(f\"Studnet: {bcolors.WARNING+email+bcolors.ENDC} Not found on canvas. \\n\"\n",
    "                      f\"Maybe Testing Account or Dropped Student\")\n",
    "                print(e)\n",
    "                pass\n",
    "        "
   ]
  },
  {
   "cell_type": "code",
   "execution_count": null,
   "metadata": {},
   "outputs": [
    {
     "data": {
      "text/markdown": [
       "---\n",
       "\n",
       "[source](https://github.com/scott-yj-yang/GradescopeLatePenalty/blob/main/GradescopeLatePenalty/nbgrader.py#L28){target=\"_blank\" style=\"float:right; font-size:smaller\"}\n",
       "\n",
       "### nbgrader_grade\n",
       "\n",
       ">      nbgrader_grade (credentials_fp='', late_exception_fp='',\n",
       ">                      API_URL='https://canvas.ucsd.edu', course_id='',\n",
       ">                      assignment_id=-1, grades_fp='', verbosity=0)\n",
       "\n",
       "Initialize Canvas Group within a Group Set and its appropriate memberships\n",
       "\n",
       "|    | **Type** | **Default** | **Details** |\n",
       "| -- | -------- | ----------- | ----------- |\n",
       "| credentials_fp | str |  | credential file path. [Template of the credentials.json](https://github.com/FleischerResearchLab/CanvasGroupy/blob/main/nbs/credentials.json) |\n",
       "| late_exception_fp | str |  | late exception yaml file path. [Template of the late_exception.yaml](https://github.com/scott-yj-yang/GradescopeLatePenalty/tree/main/nbs/api/late_exception.yaml) |\n",
       "| API_URL | str | https://canvas.ucsd.edu | the domain name of canvas |\n",
       "| course_id | str |  | Course ID, can be found in the course url |\n",
       "| assignment_id | int | -1 | assignment id, can be found in the canvas assignment url |\n",
       "| grades_fp | str |  | nbgrader csv grades exports file path |\n",
       "| verbosity | int | 0 | Controls the verbosity: 0 = Silent, 1 = print all messages |"
      ],
      "text/plain": [
       "---\n",
       "\n",
       "[source](https://github.com/scott-yj-yang/GradescopeLatePenalty/blob/main/GradescopeLatePenalty/nbgrader.py#L28){target=\"_blank\" style=\"float:right; font-size:smaller\"}\n",
       "\n",
       "### nbgrader_grade\n",
       "\n",
       ">      nbgrader_grade (credentials_fp='', late_exception_fp='',\n",
       ">                      API_URL='https://canvas.ucsd.edu', course_id='',\n",
       ">                      assignment_id=-1, grades_fp='', verbosity=0)\n",
       "\n",
       "Initialize Canvas Group within a Group Set and its appropriate memberships\n",
       "\n",
       "|    | **Type** | **Default** | **Details** |\n",
       "| -- | -------- | ----------- | ----------- |\n",
       "| credentials_fp | str |  | credential file path. [Template of the credentials.json](https://github.com/FleischerResearchLab/CanvasGroupy/blob/main/nbs/credentials.json) |\n",
       "| late_exception_fp | str |  | late exception yaml file path. [Template of the late_exception.yaml](https://github.com/scott-yj-yang/GradescopeLatePenalty/tree/main/nbs/api/late_exception.yaml) |\n",
       "| API_URL | str | https://canvas.ucsd.edu | the domain name of canvas |\n",
       "| course_id | str |  | Course ID, can be found in the course url |\n",
       "| assignment_id | int | -1 | assignment id, can be found in the canvas assignment url |\n",
       "| grades_fp | str |  | nbgrader csv grades exports file path |\n",
       "| verbosity | int | 0 | Controls the verbosity: 0 = Silent, 1 = print all messages |"
      ]
     },
     "execution_count": null,
     "metadata": {},
     "output_type": "execute_result"
    }
   ],
   "source": [
    "show_doc(nbgrader_grade)"
   ]
  },
  {
   "cell_type": "code",
   "execution_count": null,
   "metadata": {},
   "outputs": [
    {
     "data": {
      "text/markdown": [
       "---\n",
       "\n",
       "[source](https://github.com/scott-yj-yang/GradescopeLatePenalty/blob/main/GradescopeLatePenalty/nbgrader.py#L65){target=\"_blank\" style=\"float:right; font-size:smaller\"}\n",
       "\n",
       "### nbgrader_grade.auth_canvas\n",
       "\n",
       ">      nbgrader_grade.auth_canvas (credentials_fp:str)\n",
       "\n",
       "Authorize the canvas module with API_KEY\n",
       "\n",
       "|    | **Type** | **Details** |\n",
       "| -- | -------- | ----------- |\n",
       "| credentials_fp | str | the Authenticator key generated from canvas |"
      ],
      "text/plain": [
       "---\n",
       "\n",
       "[source](https://github.com/scott-yj-yang/GradescopeLatePenalty/blob/main/GradescopeLatePenalty/nbgrader.py#L65){target=\"_blank\" style=\"float:right; font-size:smaller\"}\n",
       "\n",
       "### nbgrader_grade.auth_canvas\n",
       "\n",
       ">      nbgrader_grade.auth_canvas (credentials_fp:str)\n",
       "\n",
       "Authorize the canvas module with API_KEY\n",
       "\n",
       "|    | **Type** | **Details** |\n",
       "| -- | -------- | ----------- |\n",
       "| credentials_fp | str | the Authenticator key generated from canvas |"
      ]
     },
     "execution_count": null,
     "metadata": {},
     "output_type": "execute_result"
    }
   ],
   "source": [
    "show_doc(nbgrader_grade.auth_canvas)"
   ]
  },
  {
   "cell_type": "code",
   "execution_count": null,
   "metadata": {},
   "outputs": [
    {
     "data": {
      "text/markdown": [
       "---\n",
       "\n",
       "[source](https://github.com/scott-yj-yang/GradescopeLatePenalty/blob/main/GradescopeLatePenalty/nbgrader.py#L79){target=\"_blank\" style=\"float:right; font-size:smaller\"}\n",
       "\n",
       "### nbgrader_grade.set_course\n",
       "\n",
       ">      nbgrader_grade.set_course (course_id:int)\n",
       "\n",
       "Set the target course by the course ID\n",
       "\n",
       "|    | **Type** | **Details** |\n",
       "| -- | -------- | ----------- |\n",
       "| course_id | int | the course id of the target course |"
      ],
      "text/plain": [
       "---\n",
       "\n",
       "[source](https://github.com/scott-yj-yang/GradescopeLatePenalty/blob/main/GradescopeLatePenalty/nbgrader.py#L79){target=\"_blank\" style=\"float:right; font-size:smaller\"}\n",
       "\n",
       "### nbgrader_grade.set_course\n",
       "\n",
       ">      nbgrader_grade.set_course (course_id:int)\n",
       "\n",
       "Set the target course by the course ID\n",
       "\n",
       "|    | **Type** | **Details** |\n",
       "| -- | -------- | ----------- |\n",
       "| course_id | int | the course id of the target course |"
      ]
     },
     "execution_count": null,
     "metadata": {},
     "output_type": "execute_result"
    }
   ],
   "source": [
    "show_doc(nbgrader_grade.set_course)"
   ]
  },
  {
   "cell_type": "code",
   "execution_count": null,
   "metadata": {},
   "outputs": [
    {
     "data": {
      "text/markdown": [
       "---\n",
       "\n",
       "[source](https://github.com/scott-yj-yang/GradescopeLatePenalty/blob/main/GradescopeLatePenalty/nbgrader.py#L101){target=\"_blank\" style=\"float:right; font-size:smaller\"}\n",
       "\n",
       "### nbgrader_grade.link_assignment\n",
       "\n",
       ">      nbgrader_grade.link_assignment (assignment_id:int)\n",
       "\n",
       "Link the target assignment on canvas\n",
       "\n",
       "|    | **Type** | **Details** |\n",
       "| -- | -------- | ----------- |\n",
       "| assignment_id | int | assignment id, found at the url of assignmnet tab |\n",
       "| **Returns** | **Assignment** | **target assignment** |"
      ],
      "text/plain": [
       "---\n",
       "\n",
       "[source](https://github.com/scott-yj-yang/GradescopeLatePenalty/blob/main/GradescopeLatePenalty/nbgrader.py#L101){target=\"_blank\" style=\"float:right; font-size:smaller\"}\n",
       "\n",
       "### nbgrader_grade.link_assignment\n",
       "\n",
       ">      nbgrader_grade.link_assignment (assignment_id:int)\n",
       "\n",
       "Link the target assignment on canvas\n",
       "\n",
       "|    | **Type** | **Details** |\n",
       "| -- | -------- | ----------- |\n",
       "| assignment_id | int | assignment id, found at the url of assignmnet tab |\n",
       "| **Returns** | **Assignment** | **target assignment** |"
      ]
     },
     "execution_count": null,
     "metadata": {},
     "output_type": "execute_result"
    }
   ],
   "source": [
    "show_doc(nbgrader_grade.link_assignment)"
   ]
  },
  {
   "cell_type": "code",
   "execution_count": null,
   "metadata": {},
   "outputs": [
    {
     "data": {
      "text/markdown": [
       "---\n",
       "\n",
       "[source](https://github.com/scott-yj-yang/GradescopeLatePenalty/blob/main/GradescopeLatePenalty/nbgrader.py#L111){target=\"_blank\" style=\"float:right; font-size:smaller\"}\n",
       "\n",
       "### nbgrader_grade.load_grades_csv\n",
       "\n",
       ">      nbgrader_grade.load_grades_csv (csv_pf:str)\n",
       "\n",
       "Load nbgrader exported csv file\n",
       "\n",
       "|    | **Type** | **Details** |\n",
       "| -- | -------- | ----------- |\n",
       "| csv_pf | str | csv file path |"
      ],
      "text/plain": [
       "---\n",
       "\n",
       "[source](https://github.com/scott-yj-yang/GradescopeLatePenalty/blob/main/GradescopeLatePenalty/nbgrader.py#L111){target=\"_blank\" style=\"float:right; font-size:smaller\"}\n",
       "\n",
       "### nbgrader_grade.load_grades_csv\n",
       "\n",
       ">      nbgrader_grade.load_grades_csv (csv_pf:str)\n",
       "\n",
       "Load nbgrader exported csv file\n",
       "\n",
       "|    | **Type** | **Details** |\n",
       "| -- | -------- | ----------- |\n",
       "| csv_pf | str | csv file path |"
      ]
     },
     "execution_count": null,
     "metadata": {},
     "output_type": "execute_result"
    }
   ],
   "source": [
    "show_doc(nbgrader_grade.load_grades_csv)"
   ]
  },
  {
   "cell_type": "code",
   "execution_count": null,
   "metadata": {},
   "outputs": [
    {
     "data": {
      "text/markdown": [
       "---\n",
       "\n",
       "[source](https://github.com/scott-yj-yang/GradescopeLatePenalty/blob/main/GradescopeLatePenalty/nbgrader.py#L118){target=\"_blank\" style=\"float:right; font-size:smaller\"}\n",
       "\n",
       "### nbgrader_grade.load_late_exception\n",
       "\n",
       ">      nbgrader_grade.load_late_exception (yaml_fp:str)\n",
       "\n",
       "Load Late Exception File\n",
       "\n",
       "|    | **Type** | **Details** |\n",
       "| -- | -------- | ----------- |\n",
       "| yaml_fp | str | yaml file path stores exception student cases |"
      ],
      "text/plain": [
       "---\n",
       "\n",
       "[source](https://github.com/scott-yj-yang/GradescopeLatePenalty/blob/main/GradescopeLatePenalty/nbgrader.py#L118){target=\"_blank\" style=\"float:right; font-size:smaller\"}\n",
       "\n",
       "### nbgrader_grade.load_late_exception\n",
       "\n",
       ">      nbgrader_grade.load_late_exception (yaml_fp:str)\n",
       "\n",
       "Load Late Exception File\n",
       "\n",
       "|    | **Type** | **Details** |\n",
       "| -- | -------- | ----------- |\n",
       "| yaml_fp | str | yaml file path stores exception student cases |"
      ]
     },
     "execution_count": null,
     "metadata": {},
     "output_type": "execute_result"
    }
   ],
   "source": [
    "show_doc(nbgrader_grade.load_late_exception)"
   ]
  },
  {
   "cell_type": "code",
   "execution_count": null,
   "metadata": {},
   "outputs": [
    {
     "data": {
      "text/markdown": [
       "---\n",
       "\n",
       "[source](https://github.com/scott-yj-yang/GradescopeLatePenalty/blob/main/GradescopeLatePenalty/nbgrader.py#L158){target=\"_blank\" style=\"float:right; font-size:smaller\"}\n",
       "\n",
       "### nbgrader_grade.get_late_days\n",
       "\n",
       ">      nbgrader_grade.get_late_days (target_assignment:str, student_id:str)\n",
       "\n",
       "Calculate the late day of students submission of the target assignment\n",
       "\n",
       "|    | **Type** | **Details** |\n",
       "| -- | -------- | ----------- |\n",
       "| target_assignment | str | target assignment name. Must in the column of nbgrader assignment csv |\n",
       "| student_id | str | student id |\n",
       "| **Returns** | **int** | **late days of the target assignment** |"
      ],
      "text/plain": [
       "---\n",
       "\n",
       "[source](https://github.com/scott-yj-yang/GradescopeLatePenalty/blob/main/GradescopeLatePenalty/nbgrader.py#L158){target=\"_blank\" style=\"float:right; font-size:smaller\"}\n",
       "\n",
       "### nbgrader_grade.get_late_days\n",
       "\n",
       ">      nbgrader_grade.get_late_days (target_assignment:str, student_id:str)\n",
       "\n",
       "Calculate the late day of students submission of the target assignment\n",
       "\n",
       "|    | **Type** | **Details** |\n",
       "| -- | -------- | ----------- |\n",
       "| target_assignment | str | target assignment name. Must in the column of nbgrader assignment csv |\n",
       "| student_id | str | student id |\n",
       "| **Returns** | **int** | **late days of the target assignment** |"
      ]
     },
     "execution_count": null,
     "metadata": {},
     "output_type": "execute_result"
    }
   ],
   "source": [
    "show_doc(nbgrader_grade.get_late_days)"
   ]
  },
  {
   "cell_type": "code",
   "execution_count": null,
   "metadata": {},
   "outputs": [
    {
     "data": {
      "text/markdown": [
       "---\n",
       "\n",
       "[source](https://github.com/scott-yj-yang/GradescopeLatePenalty/blob/main/GradescopeLatePenalty/nbgrader.py#L172){target=\"_blank\" style=\"float:right; font-size:smaller\"}\n",
       "\n",
       "### nbgrader_grade.calculate_credit_balance\n",
       "\n",
       ">      nbgrader_grade.calculate_credit_balance\n",
       ">                                               (passed_assignments:[<class'str'\n",
       ">                                               >], student_id:str,\n",
       ">                                               default_credit=5)\n",
       "\n",
       "Calculate the balance of late hours from the nbgrader file\n",
       "\n",
       "|    | **Type** | **Default** | **Details** |\n",
       "| -- | -------- | ----------- | ----------- |\n",
       "| passed_assignments | [<class 'str'>] |  | list of passed assignments name. Must in the column of `assignment`. |\n",
       "| student_id | str |  | target student |\n",
       "| default_credit | int | 5 | default total number of allowed late days |\n",
       "| **Returns** | **int** |  | **late credit balance of the target student** |"
      ],
      "text/plain": [
       "---\n",
       "\n",
       "[source](https://github.com/scott-yj-yang/GradescopeLatePenalty/blob/main/GradescopeLatePenalty/nbgrader.py#L172){target=\"_blank\" style=\"float:right; font-size:smaller\"}\n",
       "\n",
       "### nbgrader_grade.calculate_credit_balance\n",
       "\n",
       ">      nbgrader_grade.calculate_credit_balance\n",
       ">                                               (passed_assignments:[<class'str'\n",
       ">                                               >], student_id:str,\n",
       ">                                               default_credit=5)\n",
       "\n",
       "Calculate the balance of late hours from the nbgrader file\n",
       "\n",
       "|    | **Type** | **Default** | **Details** |\n",
       "| -- | -------- | ----------- | ----------- |\n",
       "| passed_assignments | [<class 'str'>] |  | list of passed assignments name. Must in the column of `assignment`. |\n",
       "| student_id | str |  | target student |\n",
       "| default_credit | int | 5 | default total number of allowed late days |\n",
       "| **Returns** | **int** |  | **late credit balance of the target student** |"
      ]
     },
     "execution_count": null,
     "metadata": {},
     "output_type": "execute_result"
    }
   ],
   "source": [
    "show_doc(nbgrader_grade.calculate_credit_balance)"
   ]
  },
  {
   "cell_type": "code",
   "execution_count": null,
   "metadata": {},
   "outputs": [
    {
     "data": {
      "text/markdown": [
       "---\n",
       "\n",
       "[source](https://github.com/scott-yj-yang/GradescopeLatePenalty/blob/main/GradescopeLatePenalty/nbgrader.py#L188){target=\"_blank\" style=\"float:right; font-size:smaller\"}\n",
       "\n",
       "### nbgrader_grade._post_grade\n",
       "\n",
       ">      nbgrader_grade._post_grade (student_id:int, grade:float, text_comment='')\n",
       "\n",
       "Post grade and comment to canvas to the target assignment\n",
       "\n",
       "|    | **Type** | **Default** | **Details** |\n",
       "| -- | -------- | ----------- | ----------- |\n",
       "| student_id | int |  | canvas student id of student. found in self.email_to_canvas_id |\n",
       "| grade | float |  | grade of that assignment |\n",
       "| text_comment | str |  | text comment of the submission. Can feed |\n",
       "| **Returns** | **Submission** |  | **created submission** |"
      ],
      "text/plain": [
       "---\n",
       "\n",
       "[source](https://github.com/scott-yj-yang/GradescopeLatePenalty/blob/main/GradescopeLatePenalty/nbgrader.py#L188){target=\"_blank\" style=\"float:right; font-size:smaller\"}\n",
       "\n",
       "### nbgrader_grade._post_grade\n",
       "\n",
       ">      nbgrader_grade._post_grade (student_id:int, grade:float, text_comment='')\n",
       "\n",
       "Post grade and comment to canvas to the target assignment\n",
       "\n",
       "|    | **Type** | **Default** | **Details** |\n",
       "| -- | -------- | ----------- | ----------- |\n",
       "| student_id | int |  | canvas student id of student. found in self.email_to_canvas_id |\n",
       "| grade | float |  | grade of that assignment |\n",
       "| text_comment | str |  | text comment of the submission. Can feed |\n",
       "| **Returns** | **Submission** |  | **created submission** |"
      ]
     },
     "execution_count": null,
     "metadata": {},
     "output_type": "execute_result"
    }
   ],
   "source": [
    "show_doc(nbgrader_grade._post_grade)"
   ]
  },
  {
   "cell_type": "code",
   "execution_count": null,
   "metadata": {},
   "outputs": [
    {
     "data": {
      "text/markdown": [
       "---\n",
       "\n",
       "[source](https://github.com/scott-yj-yang/GradescopeLatePenalty/blob/main/GradescopeLatePenalty/nbgrader.py#L213){target=\"_blank\" style=\"float:right; font-size:smaller\"}\n",
       "\n",
       "### nbgrader_grade.post_to_canvas\n",
       "\n",
       ">      nbgrader_grade.post_to_canvas (target_assignment:str,\n",
       ">                                     passed_assignments:[<class'str'>],\n",
       ">                                     post=True)\n",
       "\n",
       "Post grade to canvas with late penalty.\n",
       "\n",
       "|    | **Type** | **Default** | **Details** |\n",
       "| -- | -------- | ----------- | ----------- |\n",
       "| target_assignment | str |  | target assignment name to grab the late time. Must in the column of nbgrader assignment csv |\n",
       "| passed_assignments | [<class 'str'>] |  | list of passed assignment. Must in the column of nbgrader assignment csv |\n",
       "| post | bool | True | for testing purposes. Can hault the post operation |"
      ],
      "text/plain": [
       "---\n",
       "\n",
       "[source](https://github.com/scott-yj-yang/GradescopeLatePenalty/blob/main/GradescopeLatePenalty/nbgrader.py#L213){target=\"_blank\" style=\"float:right; font-size:smaller\"}\n",
       "\n",
       "### nbgrader_grade.post_to_canvas\n",
       "\n",
       ">      nbgrader_grade.post_to_canvas (target_assignment:str,\n",
       ">                                     passed_assignments:[<class'str'>],\n",
       ">                                     post=True)\n",
       "\n",
       "Post grade to canvas with late penalty.\n",
       "\n",
       "|    | **Type** | **Default** | **Details** |\n",
       "| -- | -------- | ----------- | ----------- |\n",
       "| target_assignment | str |  | target assignment name to grab the late time. Must in the column of nbgrader assignment csv |\n",
       "| passed_assignments | [<class 'str'>] |  | list of passed assignment. Must in the column of nbgrader assignment csv |\n",
       "| post | bool | True | for testing purposes. Can hault the post operation |"
      ]
     },
     "execution_count": null,
     "metadata": {},
     "output_type": "execute_result"
    }
   ],
   "source": [
    "show_doc(nbgrader_grade.post_to_canvas)"
   ]
  },
  {
   "cell_type": "code",
   "execution_count": null,
   "metadata": {},
   "outputs": [],
   "source": [
    "#| hide\n",
    "import nbdev; nbdev.nbdev_export()"
   ]
  }
 ],
 "metadata": {
  "kernelspec": {
   "display_name": "python3",
   "language": "python",
   "name": "python3"
  }
 },
 "nbformat": 4,
 "nbformat_minor": 4
}
