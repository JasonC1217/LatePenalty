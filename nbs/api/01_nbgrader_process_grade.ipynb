{
 "cells": [
  {
   "cell_type": "markdown",
   "metadata": {},
   "source": [
    "# nbgrader\n",
    "\n",
    "> This module process the nbgrader generated csv grades files and the output directories, and use canvas api to post grade to students, with late penalty and the messages."
   ]
  },
  {
   "cell_type": "code",
   "execution_count": 1,
   "metadata": {},
   "outputs": [],
   "source": [
    "#| default_exp nbgrader"
   ]
  },
  {
   "cell_type": "code",
   "execution_count": 2,
   "metadata": {},
   "outputs": [],
   "source": [
    "#| hide\n",
    "from nbdev.showdoc import *"
   ]
  },
  {
   "cell_type": "code",
   "execution_count": 122,
   "metadata": {},
   "outputs": [],
   "source": [
    "#| export\n",
    "import canvasapi\n",
    "from canvasapi import Canvas\n",
    "import numpy as np\n",
    "import pandas as pd\n",
    "import json\n",
    "from datetime import datetime\n",
    "import yaml"
   ]
  },
  {
   "cell_type": "code",
   "execution_count": 125,
   "metadata": {},
   "outputs": [
    {
     "data": {
      "text/plain": [
       "{'grader-cogs108-02': {'late_days': 7, 'reasons': 'sickness'},\n",
       " 'student2': {'late_days': 10, 'reasons': 'family issue'}}"
      ]
     },
     "execution_count": 125,
     "metadata": {},
     "output_type": "execute_result"
    }
   ],
   "source": [
    "with open(\"late_exception.yaml\", \"r\") as f:\n",
    "    exception = yaml.safe_load(f)\n",
    "exception"
   ]
  },
  {
   "cell_type": "code",
   "execution_count": 4,
   "metadata": {},
   "outputs": [],
   "source": [
    "#| export\n",
    "#| hide\n",
    "class bcolors:\n",
    "    HEADER = '\\033[95m'\n",
    "    OKBLUE = '\\033[94m'\n",
    "    OKCYAN = '\\033[96m'\n",
    "    OKGREEN = '\\033[92m'\n",
    "    WARNING = '\\033[93m'\n",
    "    FAIL = '\\033[91m'\n",
    "    ENDC = '\\033[0m'\n",
    "    BOLD = '\\033[1m'\n",
    "    UNDERLINE = '\\033[4m'"
   ]
  },
  {
   "cell_type": "code",
   "execution_count": 127,
   "metadata": {},
   "outputs": [],
   "source": [
    "#| export\n",
    "class nbgrader_grade:\n",
    "    def __init__(self,\n",
    "                 credentials_fp=\"\", # credential file path. [Template of the credentials.json](https://github.com/FleischerResearchLab/CanvasGroupy/blob/main/nbs/credentials.json)\n",
    "                 late_exception_fp=\"\", # late exception yaml file path. [Template of the late_exception.yaml](https://github.com/scott-yj-yang/GradescopeLatePenalty/tree/main/nbs/api/late_exception.yaml)\n",
    "                 API_URL=\"https://canvas.ucsd.edu\", # the domain name of canvas\n",
    "                 course_id=\"\", # Course ID, can be found in the course url\n",
    "                 assignment_id=-1, # assignment id, can be found in the canvas assignment url\n",
    "                 grades_fp=\"\", # nbgrader csv grades exports file path \n",
    "                 verbosity=0 # Controls the verbosity: 0 = Silent, 1 = print all messages\n",
    "                ):\n",
    "        \"Initialize Canvas Group within a Group Set and its appropriate memberships\"\n",
    "        self.API_URL = API_URL\n",
    "        self.canvas = None\n",
    "        self.course = None\n",
    "        self.users = None\n",
    "        self.email_to_canvas_id = None\n",
    "        self.canvas_id_to_email = None\n",
    "        self.API_KEY = None\n",
    "        self.verbosity = verbosity\n",
    "        self.assignment = None\n",
    "        self.grades = None\n",
    "        self.late_exception = dict()\n",
    "        self.grades_by_assignment = dict()\n",
    "        self.late_days_by_assignment = dict()\n",
    "        \n",
    "        # initialize by the input parameter\n",
    "        if credentials_fp != \"\":\n",
    "            self.auth_canvas(credentials_fp)\n",
    "        if course_id != \"\":\n",
    "            self.set_course(course_id)\n",
    "        if assignment_id != -1:\n",
    "            self.link_assignment(assignment_id)\n",
    "        if gradescope_fp != \"\":\n",
    "            self.load_gradescope_csv(gradescope_fp)\n",
    "        if late_exception_fp !=\"\":\n",
    "            self.load_late_exception(late_exception_fp)\n",
    "        \n",
    "    def auth_canvas(self,\n",
    "                    credentials_fp: str # the Authenticator key generated from canvas\n",
    "                   ):\n",
    "        \"Authorize the canvas module with API_KEY\"\n",
    "        with open(credentials_fp, \"r\") as f:\n",
    "            credentials = json.load(f)\n",
    "        self.API_KEY = credentials[\"Canvas Token\"]\n",
    "        self.GITHUB_TOKEN = credentials[\"GitHub Token\"]\n",
    "        self.canvas = Canvas(self.API_URL, self.API_KEY)\n",
    "        # test authorization\n",
    "        _ = self.canvas.get_activity_stream_summary()\n",
    "        if self.verbosity != 0:\n",
    "            print(f\"{bcolors.OKGREEN}Authorization Successful!{bcolors.ENDC}\")\n",
    "        \n",
    "    def set_course(self, \n",
    "                   course_id: int # the course id of the target course\n",
    "                  ):\n",
    "        \"Set the target course by the course ID\"\n",
    "        self.course = self.canvas.get_course(course_id)\n",
    "        if self.verbosity != 0:\n",
    "            print(f\"Course Set: {bcolors.OKGREEN} {self.course.name} {bcolors.ENDC}\")\n",
    "            print(f\"Getting List of Users... This might take a while...\")\n",
    "        self.users = list(self.course.get_users())\n",
    "        if self.verbosity != 0:\n",
    "            print(f\"Users Fetch Complete! The course has {bcolors.OKBLUE}{len(self.users)}{bcolors.ENDC} users.\")\n",
    "        self.email_to_canvas_id = {}\n",
    "        self.canvas_id_to_email = {}\n",
    "        for u in self.users:\n",
    "            try:\n",
    "                self.email_to_canvas_id[u.email.split(\"@\")[0]] = u.id\n",
    "                self.canvas_id_to_email[u.id] = u.email.split(\"@\")[0]\n",
    "            except Exception:\n",
    "                if self.verbosity != 0:\n",
    "                    print(f\"{bcolors.WARNING}Failed to Parse email and id\"\n",
    "                          f\" for {bcolors.UNDERLINE}{u.short_name}{bcolors.ENDC}{bcolors.ENDC}\")\n",
    "\n",
    "    def link_assignment(self,\n",
    "                        assignment_id: int # assignment id, found at the url of assignmnet tab\n",
    "                       ) -> canvasapi.assignment.Assignment: # target assignment\n",
    "        \"Link the target assignment on canvas\"\n",
    "        assignment = self.course.get_assignment(assignment_id)\n",
    "        if self.verbosity != 0:\n",
    "            print(f\"Assignment {bcolors.OKGREEN+assignment.name+bcolors.ENDC} Link!\")\n",
    "        self.assignment = assignment\n",
    "        return assignment\n",
    "                    \n",
    "    def load_grades_csv(self,\n",
    "                        csv_pf:str # csv file path \n",
    "                       ):\n",
    "        \"Load nbgrader exported csv file\"\n",
    "        self.grades = pd.read_csv(csv_pf)\n",
    "    \n",
    "    def load_late_exception(self,\n",
    "                            yaml_fp:str # yaml file path stores exception student cases\n",
    "                           ):\n",
    "        \"Load Late Exception File\"\n",
    "        with open(yaml_fp, \"r\") as f:\n",
    "            self.late_exception = yaml.safe_load(f)\n",
    "        \n",
    "    def _parse_assignments(self):\n",
    "        \"Parse all assignment by assignment name. And calculate late days used.\"\n",
    "        if self.grades == None:\n",
    "            raise ValueError(\"grades has not been loaded. Please loaded via self.load_grades_csv\")\n",
    "        assignments = self.grades[\"assignment\"].unique()\n",
    "        # I am just lazy :-)\n",
    "        df = self.grades\n",
    "        for assignment in assignments:\n",
    "            A = df[df[\"assignment\"] == assignment]\n",
    "            # filter those who submitted\n",
    "            A = A[~A[\"timestamp\"].isna()].copy()\n",
    "            # remove the redundant /\n",
    "            A[\"student_id\"] = A[\"student_id\"].str.split(\"/\").str[0]\n",
    "            A = D1.set_index(\"student_id\")\n",
    "            slip_day_used = self._calculate_late_days(A)\n",
    "            A[\"slip_day_used\"] = slip_day_used\n",
    "            # store the parsed result\n",
    "            self.grades_by_assignment[assignment] = A\n",
    "            self.late_days_by_assignment[assignment] = A[\"slip_day_used\"]\n",
    "    \n",
    "    def _calculate_late_days(self,\n",
    "                             df:pd.DataFrame # dataframe of a specific assignment\n",
    "                            )-> pd.Series: # late days\n",
    "        # parse the timestamp\n",
    "        duedate_format = \"%Y-%m-%d %H:%M:%S\"\n",
    "        timestamp_format = \"%Y-%m-%d %H:%M:%S.%f\"\n",
    "        df[\"duedate\"] = df[\"duedate\"].apply(lambda x: datetime.strptime(x, duedate_format))\n",
    "        df[\"timestamp\"] = df[\"timestamp\"].apply(lambda x: datetime.strptime(x, timestamp_format))\n",
    "        late_time_delta = (df[\"timestamp\"] - df[\"duedate\"])\n",
    "        # calculate late days, use ReLU\n",
    "        slip_day_used = late_time_delta.apply(lambda x: np.max([np.ceil(x.total_seconds()/60/60/24), 0]))\n",
    "        return slip_day_used\n",
    "    \n",
    "    def get_late_days(self,\n",
    "                      target_assignment:str, # target assignment name. Must in the column of nbgrader assignment csv \n",
    "                      student_id:str # student id\n",
    "                     ) -> int: # late days of the target assignment\n",
    "        \"Calculate the late day of students submission of the target assignment\"\n",
    "        try:\n",
    "            late_day = self.late_days_by_assignment[target_assignment][student_id]\n",
    "        except KeyError:\n",
    "            if self.verbosity != 1:\n",
    "                print(f\"Student {bcolors.WARNING+student_id+bcolors.ENDC} did \"\n",
    "                      f\"not submit {bcolors.WARNING+target_assignment+bcolors.ENDC}\")\n",
    "            late_day = 0\n",
    "        return late_day\n",
    "        \n",
    "    def calculate_credit_balance(self,\n",
    "                                 passed_assignments:[str], # list of passed assignments name. Must in the column of `assignment`.\n",
    "                                 student_id:str, # target student\n",
    "                                 default_credit = 5 # default total number of allowed late days\n",
    "                                ) -> int: # late credit balance of the target student\n",
    "        \"Calculate the balance of late hours from the nbgrader file\"\n",
    "        # if student is in the late exception, use the new number\n",
    "        if student_id in self.late_days_by_assignment:\n",
    "            default_credit = self.late_days_by_assignment[student_id][\"allowed_late_days\"]\n",
    "        for passed in passed_assignments:\n",
    "            default_credit -= self.get_late_days(passed, student_id)\n",
    "        return default_credit\n",
    "    \n",
    "    def _post_grade(self,\n",
    "                   student_id: int, # canvas student id of student. found in self.email_to_canvas_id\n",
    "                   grade: float, # grade of that assignment\n",
    "                   text_comment=\"\", # text comment of the submission. Can feed\n",
    "                  ) -> canvasapi.submission.Submission: # created submission\n",
    "        \"Post grade and comment to canvas to the target assignment\"\n",
    "        submission = self.assignment.get_submission(student_id)\n",
    "        edited = submission.edit(\n",
    "            submission={\n",
    "                'posted_grade': grade\n",
    "            }, comment={\n",
    "                'text_comment': text_comment\n",
    "            }\n",
    "        )\n",
    "        if self.verbosity != 0:\n",
    "            print(f\"Grade for {bcolors.OKGREEN+email+bcolors.ENDC} Posted!\")\n",
    "        return edited\n",
    "    \n",
    "    def post_to_canvas(self,\n",
    "                       target_assignment:str, # target assignment name to grab the late time. Must in the column of nbgrader assignment csv \n",
    "                       passed_assignments:[str], # list of passed assignment. Must in the column of nbgrader assignment csv\n",
    "                       post=True, # for testing purposes. Can hault the post operation\n",
    "                      ):\n",
    "        \"Post grade to canvas with late penalty.\"\n",
    "        if self.grades is None:\n",
    "            raise ValueError(\"Nbgrader CSV has not been loaded. Please set it via self.load_grades_csv\")\n",
    "        for studend_id, row in self.grades_by_assignment[target_assignment].iterrows():\n",
    "            # fetch useful information\n",
    "            balance = self.calculate_credit_balance(passed_assignments, studend_id)\n",
    "            late_days = self.get_late_days(target_assignment, studend_id)\n",
    "            score = row[\"raw_score\"]\n",
    "            # build message for each student\n",
    "            message = f\"{target_assignment}: \\n\"\n",
    "            if late_days > 0:\n",
    "                # means late submission. Check remaining slip day\n",
    "                message += f\"Late Submission: {int(late_days)} Days Late\\n\"\n",
    "                if balance - late_days < 0:\n",
    "                    message += \"Insufficient Slip Credit. 25% late penalty applied\\n\"\n",
    "                    score = round(score * 0.75, 4)\n",
    "                else:\n",
    "                    message += \"Slip Credit Used. No late penalty applied\\n\"\n",
    "            else:\n",
    "                message += \"Submitted intime\\n\"\n",
    "            balance_after = balance - late_days\n",
    "            message += f\"Remaining Slip Credit: {int(balance_after)} Days\"\n",
    "            try:\n",
    "                if post:\n",
    "                    canvas_student_id = grade.email_to_canvas_id[studend_id]\n",
    "                    grade._post_grade(grade=score, student_id=canvas_student_id, text_comment=message)\n",
    "                else:\n",
    "                    print(f\"{bcolors.WARNING}Post Disabled{bcolors.ENDC}\\n\"\n",
    "                          f\"The message is: \\n{bcolors.OKGREEN+message+bcolors.ENDC}\"\n",
    "                         )\n",
    "            except Exception as e:\n",
    "                print(f\"Studnet: {bcolors.WARNING+email+bcolors.ENDC} Not found on canvas. \\n\"\n",
    "                      f\"Maybe Testing Account or Dropped Student\")\n",
    "                print(e)\n",
    "                pass\n",
    "        "
   ]
  },
  {
   "cell_type": "markdown",
   "metadata": {},
   "source": [
    "# Initialization "
   ]
  },
  {
   "cell_type": "code",
   "execution_count": 128,
   "metadata": {},
   "outputs": [
    {
     "data": {
      "text/markdown": [
       "---\n",
       "\n",
       "### nbgrader_grade\n",
       "\n",
       ">      nbgrader_grade (credentials_fp='', late_exception_fp='',\n",
       ">                      API_URL='https://canvas.ucsd.edu', course_id='',\n",
       ">                      assignment_id=-1, grades_fp='', verbosity=0)\n",
       "\n",
       "Initialize Canvas Group within a Group Set and its appropriate memberships\n",
       "\n",
       "|    | **Type** | **Default** | **Details** |\n",
       "| -- | -------- | ----------- | ----------- |\n",
       "| credentials_fp | str |  | credential file path. [Template of the credentials.json](https://github.com/FleischerResearchLab/CanvasGroupy/blob/main/nbs/credentials.json) |\n",
       "| late_exception_fp | str |  | late exception yaml file path. [Template of the late_exception.yaml](https://github.com/scott-yj-yang/GradescopeLatePenalty/tree/main/nbs/api/late_exception.yaml) |\n",
       "| API_URL | str | https://canvas.ucsd.edu | the domain name of canvas |\n",
       "| course_id | str |  | Course ID, can be found in the course url |\n",
       "| assignment_id | int | -1 | assignment id, can be found in the canvas assignment url |\n",
       "| grades_fp | str |  | nbgrader csv grades exports file path |\n",
       "| verbosity | int | 0 | Controls the verbosity: 0 = Silent, 1 = print all messages |"
      ],
      "text/plain": [
       "---\n",
       "\n",
       "### nbgrader_grade\n",
       "\n",
       ">      nbgrader_grade (credentials_fp='', late_exception_fp='',\n",
       ">                      API_URL='https://canvas.ucsd.edu', course_id='',\n",
       ">                      assignment_id=-1, grades_fp='', verbosity=0)\n",
       "\n",
       "Initialize Canvas Group within a Group Set and its appropriate memberships\n",
       "\n",
       "|    | **Type** | **Default** | **Details** |\n",
       "| -- | -------- | ----------- | ----------- |\n",
       "| credentials_fp | str |  | credential file path. [Template of the credentials.json](https://github.com/FleischerResearchLab/CanvasGroupy/blob/main/nbs/credentials.json) |\n",
       "| late_exception_fp | str |  | late exception yaml file path. [Template of the late_exception.yaml](https://github.com/scott-yj-yang/GradescopeLatePenalty/tree/main/nbs/api/late_exception.yaml) |\n",
       "| API_URL | str | https://canvas.ucsd.edu | the domain name of canvas |\n",
       "| course_id | str |  | Course ID, can be found in the course url |\n",
       "| assignment_id | int | -1 | assignment id, can be found in the canvas assignment url |\n",
       "| grades_fp | str |  | nbgrader csv grades exports file path |\n",
       "| verbosity | int | 0 | Controls the verbosity: 0 = Silent, 1 = print all messages |"
      ]
     },
     "execution_count": 128,
     "metadata": {},
     "output_type": "execute_result"
    }
   ],
   "source": [
    "show_doc(nbgrader_grade)"
   ]
  },
  {
   "cell_type": "code",
   "execution_count": 129,
   "metadata": {},
   "outputs": [
    {
     "ename": "FileNotFoundError",
     "evalue": "[Errno 2] No such file or directory: '../../../credentials.json'",
     "output_type": "error",
     "traceback": [
      "\u001b[0;31m---------------------------------------------------------------------------\u001b[0m",
      "\u001b[0;31mFileNotFoundError\u001b[0m                         Traceback (most recent call last)",
      "\u001b[0;32m/tmp/ipykernel_185/2633958498.py\u001b[0m in \u001b[0;36m<module>\u001b[0;34m\u001b[0m\n\u001b[0;32m----> 1\u001b[0;31m grade = nbgrader_grade(\"../../../credentials.json\",\n\u001b[0m\u001b[1;32m      2\u001b[0m                        \u001b[0mlate_exception_fp\u001b[0m\u001b[0;34m=\u001b[0m\u001b[0;34m\"late_exception.yaml\"\u001b[0m\u001b[0;34m,\u001b[0m\u001b[0;34m\u001b[0m\u001b[0;34m\u001b[0m\u001b[0m\n\u001b[1;32m      3\u001b[0m                        \u001b[0mcourse_id\u001b[0m\u001b[0;34m=\u001b[0m\u001b[0;36m45059\u001b[0m\u001b[0;34m,\u001b[0m\u001b[0;34m\u001b[0m\u001b[0;34m\u001b[0m\u001b[0m\n\u001b[1;32m      4\u001b[0m                        \u001b[0massignment_id\u001b[0m\u001b[0;34m=\u001b[0m\u001b[0;36m641795\u001b[0m\u001b[0;34m,\u001b[0m\u001b[0;34m\u001b[0m\u001b[0;34m\u001b[0m\u001b[0m\n\u001b[1;32m      5\u001b[0m                        \u001b[0mgrades_fp\u001b[0m\u001b[0;34m=\u001b[0m\u001b[0;34m\"../../../gradescope.csv\"\u001b[0m\u001b[0;34m,\u001b[0m\u001b[0;34m\u001b[0m\u001b[0;34m\u001b[0m\u001b[0m\n",
      "\u001b[0;32m/tmp/ipykernel_185/62960038.py\u001b[0m in \u001b[0;36m__init__\u001b[0;34m(self, credentials_fp, late_exception_fp, API_URL, course_id, assignment_id, grades_fp, verbosity)\u001b[0m\n\u001b[1;32m     27\u001b[0m         \u001b[0;31m# initialize by the input parameter\u001b[0m\u001b[0;34m\u001b[0m\u001b[0;34m\u001b[0m\u001b[0;34m\u001b[0m\u001b[0m\n\u001b[1;32m     28\u001b[0m         \u001b[0;32mif\u001b[0m \u001b[0mcredentials_fp\u001b[0m \u001b[0;34m!=\u001b[0m \u001b[0;34m\"\"\u001b[0m\u001b[0;34m:\u001b[0m\u001b[0;34m\u001b[0m\u001b[0;34m\u001b[0m\u001b[0m\n\u001b[0;32m---> 29\u001b[0;31m             \u001b[0mself\u001b[0m\u001b[0;34m.\u001b[0m\u001b[0mauth_canvas\u001b[0m\u001b[0;34m(\u001b[0m\u001b[0mcredentials_fp\u001b[0m\u001b[0;34m)\u001b[0m\u001b[0;34m\u001b[0m\u001b[0;34m\u001b[0m\u001b[0m\n\u001b[0m\u001b[1;32m     30\u001b[0m         \u001b[0;32mif\u001b[0m \u001b[0mcourse_id\u001b[0m \u001b[0;34m!=\u001b[0m \u001b[0;34m\"\"\u001b[0m\u001b[0;34m:\u001b[0m\u001b[0;34m\u001b[0m\u001b[0;34m\u001b[0m\u001b[0m\n\u001b[1;32m     31\u001b[0m             \u001b[0mself\u001b[0m\u001b[0;34m.\u001b[0m\u001b[0mset_course\u001b[0m\u001b[0;34m(\u001b[0m\u001b[0mcourse_id\u001b[0m\u001b[0;34m)\u001b[0m\u001b[0;34m\u001b[0m\u001b[0;34m\u001b[0m\u001b[0m\n",
      "\u001b[0;32m/tmp/ipykernel_185/62960038.py\u001b[0m in \u001b[0;36mauth_canvas\u001b[0;34m(self, credentials_fp)\u001b[0m\n\u001b[1;32m     41\u001b[0m                    ):\n\u001b[1;32m     42\u001b[0m         \u001b[0;34m\"Authorize the canvas module with API_KEY\"\u001b[0m\u001b[0;34m\u001b[0m\u001b[0;34m\u001b[0m\u001b[0m\n\u001b[0;32m---> 43\u001b[0;31m         \u001b[0;32mwith\u001b[0m \u001b[0mopen\u001b[0m\u001b[0;34m(\u001b[0m\u001b[0mcredentials_fp\u001b[0m\u001b[0;34m,\u001b[0m \u001b[0;34m\"r\"\u001b[0m\u001b[0;34m)\u001b[0m \u001b[0;32mas\u001b[0m \u001b[0mf\u001b[0m\u001b[0;34m:\u001b[0m\u001b[0;34m\u001b[0m\u001b[0;34m\u001b[0m\u001b[0m\n\u001b[0m\u001b[1;32m     44\u001b[0m             \u001b[0mcredentials\u001b[0m \u001b[0;34m=\u001b[0m \u001b[0mjson\u001b[0m\u001b[0;34m.\u001b[0m\u001b[0mload\u001b[0m\u001b[0;34m(\u001b[0m\u001b[0mf\u001b[0m\u001b[0;34m)\u001b[0m\u001b[0;34m\u001b[0m\u001b[0;34m\u001b[0m\u001b[0m\n\u001b[1;32m     45\u001b[0m         \u001b[0mself\u001b[0m\u001b[0;34m.\u001b[0m\u001b[0mAPI_KEY\u001b[0m \u001b[0;34m=\u001b[0m \u001b[0mcredentials\u001b[0m\u001b[0;34m[\u001b[0m\u001b[0;34m\"Canvas Token\"\u001b[0m\u001b[0;34m]\u001b[0m\u001b[0;34m\u001b[0m\u001b[0;34m\u001b[0m\u001b[0m\n",
      "\u001b[0;31mFileNotFoundError\u001b[0m: [Errno 2] No such file or directory: '../../../credentials.json'"
     ]
    }
   ],
   "source": [
    "grade = nbgrader_grade(\"../../../credentials.json\",\n",
    "                       late_exception_fp=\"late_exception.yaml\",\n",
    "                       course_id=45059,\n",
    "                       assignment_id=641795,\n",
    "                       grades_fp=\"../../../gradescope.csv\",\n",
    "                       verbosity=1,\n",
    "                      )"
   ]
  },
  {
   "cell_type": "code",
   "execution_count": null,
   "metadata": {},
   "outputs": [
    {
     "data": {
      "text/markdown": [
       "---\n",
       "\n",
       "[source](https://github.com/scott-yj-yang/GradescopeLatePenalty/blob/main/GradescopeLatePenalty/process_grade.py#L164){target=\"_blank\" style=\"float:right; font-size:smaller\"}\n",
       "\n",
       "### process_grade.post_to_canvas\n",
       "\n",
       ">      process_grade.post_to_canvas (target_assignment:str,\n",
       ">                                    passed_assignments:[<class'str'>],\n",
       ">                                    components:[<class'str'>], post=True)\n",
       "\n",
       "Post grade to canvas with late penalty.\n",
       "\n",
       "|    | **Type** | **Default** | **Details** |\n",
       "| -- | -------- | ----------- | ----------- |\n",
       "| target_assignment | str |  | target assignment name to grab the late time. Must in the column of gradescope csv |\n",
       "| passed_assignments | [<class 'str'>] |  | list of passed assignment. Must in the column of gradescope csv |\n",
       "| components | [<class 'str'>] |  | components of a single assignment. Must in the column of gradescope csv |\n",
       "| post | bool | True | for testing purposes. Can hault the post operation |"
      ],
      "text/plain": [
       "---\n",
       "\n",
       "[source](https://github.com/scott-yj-yang/GradescopeLatePenalty/blob/main/GradescopeLatePenalty/process_grade.py#L164){target=\"_blank\" style=\"float:right; font-size:smaller\"}\n",
       "\n",
       "### process_grade.post_to_canvas\n",
       "\n",
       ">      process_grade.post_to_canvas (target_assignment:str,\n",
       ">                                    passed_assignments:[<class'str'>],\n",
       ">                                    components:[<class'str'>], post=True)\n",
       "\n",
       "Post grade to canvas with late penalty.\n",
       "\n",
       "|    | **Type** | **Default** | **Details** |\n",
       "| -- | -------- | ----------- | ----------- |\n",
       "| target_assignment | str |  | target assignment name to grab the late time. Must in the column of gradescope csv |\n",
       "| passed_assignments | [<class 'str'>] |  | list of passed assignment. Must in the column of gradescope csv |\n",
       "| components | [<class 'str'>] |  | components of a single assignment. Must in the column of gradescope csv |\n",
       "| post | bool | True | for testing purposes. Can hault the post operation |"
      ]
     },
     "execution_count": null,
     "metadata": {},
     "output_type": "execute_result"
    }
   ],
   "source": [
    "show_doc(process_grade.post_to_canvas)"
   ]
  },
  {
   "cell_type": "code",
   "execution_count": null,
   "metadata": {},
   "outputs": [
    {
     "data": {
      "text/markdown": [
       "---\n",
       "\n",
       "[source](https://github.com/scott-yj-yang/GradescopeLatePenalty/blob/main/GradescopeLatePenalty/process_grade.py#L137){target=\"_blank\" style=\"float:right; font-size:smaller\"}\n",
       "\n",
       "### process_grade.calculate_total_score\n",
       "\n",
       ">      process_grade.calculate_total_score (components:[<class'str'>])\n",
       "\n",
       "Calculate the total score of an assignment\n",
       "\n",
       "|    | **Type** | **Details** |\n",
       "| -- | -------- | ----------- |\n",
       "| components | [<class 'str'>] | components of a single assignment. Must in the column of gradescope csv |\n",
       "| **Returns** | **Series** |  |"
      ],
      "text/plain": [
       "---\n",
       "\n",
       "[source](https://github.com/scott-yj-yang/GradescopeLatePenalty/blob/main/GradescopeLatePenalty/process_grade.py#L137){target=\"_blank\" style=\"float:right; font-size:smaller\"}\n",
       "\n",
       "### process_grade.calculate_total_score\n",
       "\n",
       ">      process_grade.calculate_total_score (components:[<class'str'>])\n",
       "\n",
       "Calculate the total score of an assignment\n",
       "\n",
       "|    | **Type** | **Details** |\n",
       "| -- | -------- | ----------- |\n",
       "| components | [<class 'str'>] | components of a single assignment. Must in the column of gradescope csv |\n",
       "| **Returns** | **Series** |  |"
      ]
     },
     "execution_count": null,
     "metadata": {},
     "output_type": "execute_result"
    }
   ],
   "source": [
    "show_doc(process_grade.calculate_total_score)"
   ]
  },
  {
   "cell_type": "code",
   "execution_count": null,
   "metadata": {},
   "outputs": [
    {
     "data": {
      "text/markdown": [
       "---\n",
       "\n",
       "[source](https://github.com/scott-yj-yang/GradescopeLatePenalty/blob/main/GradescopeLatePenalty/process_grade.py#L126){target=\"_blank\" style=\"float:right; font-size:smaller\"}\n",
       "\n",
       "### process_grade.calculate_credit_balance\n",
       "\n",
       ">      process_grade.calculate_credit_balance\n",
       ">                                              (passed_assignments:[<class'str'>\n",
       ">                                              ], total_credit=120)\n",
       "\n",
       "Calculate the balance of late hours from the gradescope file\n",
       "\n",
       "|    | **Type** | **Default** | **Details** |\n",
       "| -- | -------- | ----------- | ----------- |\n",
       "| passed_assignments | [<class 'str'>] |  | list of passed assignment. Must in the column of gradescope csv |\n",
       "| total_credit | int | 120 | total number of allowed late hours |\n",
       "| **Returns** | **dict** |  | **{email: credit balance} late credit balance of each students** |"
      ],
      "text/plain": [
       "---\n",
       "\n",
       "[source](https://github.com/scott-yj-yang/GradescopeLatePenalty/blob/main/GradescopeLatePenalty/process_grade.py#L126){target=\"_blank\" style=\"float:right; font-size:smaller\"}\n",
       "\n",
       "### process_grade.calculate_credit_balance\n",
       "\n",
       ">      process_grade.calculate_credit_balance\n",
       ">                                              (passed_assignments:[<class'str'>\n",
       ">                                              ], total_credit=120)\n",
       "\n",
       "Calculate the balance of late hours from the gradescope file\n",
       "\n",
       "|    | **Type** | **Default** | **Details** |\n",
       "| -- | -------- | ----------- | ----------- |\n",
       "| passed_assignments | [<class 'str'>] |  | list of passed assignment. Must in the column of gradescope csv |\n",
       "| total_credit | int | 120 | total number of allowed late hours |\n",
       "| **Returns** | **dict** |  | **{email: credit balance} late credit balance of each students** |"
      ]
     },
     "execution_count": null,
     "metadata": {},
     "output_type": "execute_result"
    }
   ],
   "source": [
    "show_doc(process_grade.calculate_credit_balance)"
   ]
  },
  {
   "cell_type": "code",
   "execution_count": null,
   "metadata": {},
   "outputs": [
    {
     "data": {
      "text/markdown": [
       "---\n",
       "\n",
       "[source](https://github.com/scott-yj-yang/GradescopeLatePenalty/blob/main/GradescopeLatePenalty/process_grade.py#L113){target=\"_blank\" style=\"float:right; font-size:smaller\"}\n",
       "\n",
       "### process_grade.calculate_late_hour\n",
       "\n",
       ">      process_grade.calculate_late_hour (target_assignment:str)\n",
       "\n",
       "Calculate the late hours of each submission of the target assignment\n",
       "\n",
       "|    | **Type** | **Details** |\n",
       "| -- | -------- | ----------- |\n",
       "| target_assignment | str | target assignment name. Must in the column of gradescope csv |\n",
       "| **Returns** | **Series** | **late hours of the target assignment** |"
      ],
      "text/plain": [
       "---\n",
       "\n",
       "[source](https://github.com/scott-yj-yang/GradescopeLatePenalty/blob/main/GradescopeLatePenalty/process_grade.py#L113){target=\"_blank\" style=\"float:right; font-size:smaller\"}\n",
       "\n",
       "### process_grade.calculate_late_hour\n",
       "\n",
       ">      process_grade.calculate_late_hour (target_assignment:str)\n",
       "\n",
       "Calculate the late hours of each submission of the target assignment\n",
       "\n",
       "|    | **Type** | **Details** |\n",
       "| -- | -------- | ----------- |\n",
       "| target_assignment | str | target assignment name. Must in the column of gradescope csv |\n",
       "| **Returns** | **Series** | **late hours of the target assignment** |"
      ]
     },
     "execution_count": null,
     "metadata": {},
     "output_type": "execute_result"
    }
   ],
   "source": [
    "show_doc(process_grade.calculate_late_hour)"
   ]
  },
  {
   "cell_type": "code",
   "execution_count": null,
   "metadata": {},
   "outputs": [
    {
     "data": {
      "text/markdown": [
       "---\n",
       "\n",
       "[source](https://github.com/scott-yj-yang/GradescopeLatePenalty/blob/main/GradescopeLatePenalty/process_grade.py#L146){target=\"_blank\" style=\"float:right; font-size:smaller\"}\n",
       "\n",
       "### process_grade._post_grade\n",
       "\n",
       ">      process_grade._post_grade (student_id:int, grade:float, text_comment='')\n",
       "\n",
       "Post grade and comment to canvas to the target assignment\n",
       "\n",
       "|    | **Type** | **Default** | **Details** |\n",
       "| -- | -------- | ----------- | ----------- |\n",
       "| student_id | int |  | canvas student id of student. found in self.email_to_canvas_id |\n",
       "| grade | float |  | grade of that assignment |\n",
       "| text_comment | str |  | text comment of the submission. Can feed |\n",
       "| **Returns** | **Submission** |  | **created submission** |"
      ],
      "text/plain": [
       "---\n",
       "\n",
       "[source](https://github.com/scott-yj-yang/GradescopeLatePenalty/blob/main/GradescopeLatePenalty/process_grade.py#L146){target=\"_blank\" style=\"float:right; font-size:smaller\"}\n",
       "\n",
       "### process_grade._post_grade\n",
       "\n",
       ">      process_grade._post_grade (student_id:int, grade:float, text_comment='')\n",
       "\n",
       "Post grade and comment to canvas to the target assignment\n",
       "\n",
       "|    | **Type** | **Default** | **Details** |\n",
       "| -- | -------- | ----------- | ----------- |\n",
       "| student_id | int |  | canvas student id of student. found in self.email_to_canvas_id |\n",
       "| grade | float |  | grade of that assignment |\n",
       "| text_comment | str |  | text comment of the submission. Can feed |\n",
       "| **Returns** | **Submission** |  | **created submission** |"
      ]
     },
     "execution_count": null,
     "metadata": {},
     "output_type": "execute_result"
    }
   ],
   "source": [
    "show_doc(process_grade._post_grade)"
   ]
  },
  {
   "cell_type": "code",
   "execution_count": null,
   "metadata": {},
   "outputs": [],
   "source": [
    "#| hide\n",
    "# grade.calculate_credit_balance([\"Assignment 1\"])"
   ]
  },
  {
   "cell_type": "code",
   "execution_count": null,
   "metadata": {},
   "outputs": [],
   "source": [
    "#| hide\n",
    "# grade.calculate_total_score([\"Assignment 1\", \"Assignment 1 - Manual Grading\"])"
   ]
  },
  {
   "cell_type": "code",
   "execution_count": null,
   "metadata": {},
   "outputs": [],
   "source": [
    "#| hide\n",
    "# grade.calculate_late_hour(\"Assignment 1\")"
   ]
  },
  {
   "cell_type": "code",
   "execution_count": null,
   "metadata": {},
   "outputs": [],
   "source": [
    "#| hide\n",
    "# example\n",
    "\n",
    "# assignment = grade.course.get_assignment(641795)\n",
    "# student_id = grade.email_to_canvas_id[\"grader-cogs118a-01\"]\n",
    "# submission = assignment.get_submission(student_id)\n",
    "# submission.edit(\n",
    "#     submission={\n",
    "#         'posted_grade': 0\n",
    "#     }, comment={\n",
    "#         'text_comment': \"You are the best \\n but you did submit late \\n so I have to give you 0\"\n",
    "#     }\n",
    "# )"
   ]
  },
  {
   "cell_type": "code",
   "execution_count": null,
   "metadata": {},
   "outputs": [],
   "source": [
    "#| hide\n",
    "# # This is forbidden... Ask for the privilage?\n",
    "# assignment.submit(\n",
    "#     submission={\n",
    "#         \"submission_type\": \"oneline_upload\",\n",
    "#         \"user_id\": student_id,\n",
    "#         \"submitted_at\": submission_time\n",
    "#     }\n",
    "# )"
   ]
  },
  {
   "cell_type": "code",
   "execution_count": null,
   "metadata": {},
   "outputs": [],
   "source": [
    "#| hide\n",
    "import nbdev; nbdev.nbdev_export()"
   ]
  }
 ],
 "metadata": {
  "kernelspec": {
   "display_name": "Python 3 (ipykernel)",
   "language": "python",
   "name": "python3"
  },
  "language_info": {
   "codemirror_mode": {
    "name": "ipython",
    "version": 3
   },
   "file_extension": ".py",
   "mimetype": "text/x-python",
   "name": "python",
   "nbconvert_exporter": "python",
   "pygments_lexer": "ipython3",
   "version": "3.9.5"
  }
 },
 "nbformat": 4,
 "nbformat_minor": 4
}
