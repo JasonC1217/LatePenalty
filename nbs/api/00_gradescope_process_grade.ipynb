{
 "cells": [
  {
   "cell_type": "markdown",
   "metadata": {},
   "source": [
    "# gradescope\n",
    "\n",
    "> This module process the gradescope generated csv grades file, and use canvas api to post grade to students, with late penalty."
   ]
  },
  {
   "cell_type": "code",
   "execution_count": null,
   "metadata": {},
   "outputs": [],
   "source": [
    "#| default_exp gradescope"
   ]
  },
  {
   "cell_type": "code",
   "execution_count": null,
   "metadata": {},
   "outputs": [],
   "source": [
    "#| hide\n",
    "from nbdev.showdoc import *"
   ]
  },
  {
   "cell_type": "code",
   "execution_count": null,
   "metadata": {},
   "outputs": [],
   "source": [
    "#| export\n",
    "import canvasapi\n",
    "from canvasapi import Canvas\n",
    "import numpy as np\n",
    "import pandas as pd\n",
    "import json\n",
    "from datetime import datetime"
   ]
  },
  {
   "cell_type": "code",
   "execution_count": null,
   "metadata": {},
   "outputs": [],
   "source": [
    "#| export\n",
    "#| hide\n",
    "class bcolors:\n",
    "    HEADER = '\\033[95m'\n",
    "    OKBLUE = '\\033[94m'\n",
    "    OKCYAN = '\\033[96m'\n",
    "    OKGREEN = '\\033[92m'\n",
    "    WARNING = '\\033[93m'\n",
    "    FAIL = '\\033[91m'\n",
    "    ENDC = '\\033[0m'\n",
    "    BOLD = '\\033[1m'\n",
    "    UNDERLINE = '\\033[4m'"
   ]
  },
  {
   "cell_type": "code",
   "execution_count": null,
   "metadata": {},
   "outputs": [],
   "source": [
    "#| export\n",
    "class gradescope_grade:\n",
    "    def __init__(self,\n",
    "                 credentials_fp = \"\", # credential file path. [Template of the credentials.json](https://github.com/FleischerResearchLab/CanvasGroupy/blob/main/nbs/credentials.json)\n",
    "                 API_URL=\"https://canvas.ucsd.edu\", # the domain name of canvas\n",
    "                 course_id=\"\", # Course ID, can be found in the course url\n",
    "                 assignment_id=-1, # assignment id, can be found in the canvas assignment url\n",
    "                 gradescope_fp=\"\", # gradescope csv file path \n",
    "                 verbosity=0 # Controls the verbosity: 0 = Silent, 1 = print all messages\n",
    "                ):\n",
    "        \"Initialize Canvas Group within a Group Set and its appropriate memberships\"\n",
    "        self.API_URL = API_URL\n",
    "        self.canvas = None\n",
    "        self.course = None\n",
    "        self.users = None\n",
    "        self.email_to_canvas_id = None\n",
    "        self.canvas_id_to_email = None\n",
    "        self.API_KEY = None\n",
    "        self.verbosity = verbosity\n",
    "        self.assignment = None\n",
    "        self.gradescope = None\n",
    "        \n",
    "        # initialize by the input parameter\n",
    "        if credentials_fp != \"\":\n",
    "            self.auth_canvas(credentials_fp)\n",
    "        if course_id != \"\":\n",
    "            self.set_course(course_id)\n",
    "        if assignment_id != -1:\n",
    "            self.link_assignment(assignment_id)\n",
    "        if gradescope_fp != \"\":\n",
    "            self.load_gradescope_csv(gradescope_fp)\n",
    "        \n",
    "    def auth_canvas(self,\n",
    "                    credentials_fp: str # the Authenticator key generated from canvas\n",
    "                   ):\n",
    "        \"Authorize the canvas module with API_KEY\"\n",
    "        with open(credentials_fp, \"r\") as f:\n",
    "            credentials = json.load(f)\n",
    "        self.API_KEY = credentials[\"Canvas Token\"]\n",
    "        self.GITHUB_TOKEN = credentials[\"GitHub Token\"]\n",
    "        self.canvas = Canvas(self.API_URL, self.API_KEY)\n",
    "        # test authorization\n",
    "        _ = self.canvas.get_activity_stream_summary()\n",
    "        if self.verbosity != 0:\n",
    "            print(f\"{bcolors.OKGREEN}Authorization Successful!{bcolors.ENDC}\")\n",
    "        \n",
    "    def set_course(self, \n",
    "                   course_id: int # the course id of the target course\n",
    "                  ):\n",
    "        \"Set the target course by the course ID\"\n",
    "        self.course = self.canvas.get_course(course_id)\n",
    "        if self.verbosity != 0:\n",
    "            print(f\"Course Set: {bcolors.OKGREEN} {self.course.name} {bcolors.ENDC}\")\n",
    "            print(f\"Getting List of Users... This might take a while...\")\n",
    "        self.users = list(self.course.get_users())\n",
    "        if self.verbosity != 0:\n",
    "            print(f\"Users Fetch Complete! The course has {bcolors.OKBLUE}{len(self.users)}{bcolors.ENDC} users.\")\n",
    "        self.email_to_canvas_id = {}\n",
    "        self.canvas_id_to_email = {}\n",
    "        for u in self.users:\n",
    "            try:\n",
    "                self.email_to_canvas_id[u.email.split(\"@\")[0]] = u.id\n",
    "                self.canvas_id_to_email[u.id] = u.email.split(\"@\")[0]\n",
    "            except Exception:\n",
    "                if self.verbosity != 0:\n",
    "                    print(f\"{bcolors.WARNING}Failed to Parse email and id\"\n",
    "                          f\" for {bcolors.UNDERLINE}{u.short_name}{bcolors.ENDC}{bcolors.ENDC}\")\n",
    "\n",
    "    def link_assignment(self,\n",
    "                        assignment_id: int # assignment id, found at the url of assignmnet tab\n",
    "                       ) -> canvasapi.assignment.Assignment: # target assignment\n",
    "        \"Link the target assignment on canvas\"\n",
    "        assignment = self.course.get_assignment(assignment_id)\n",
    "        if self.verbosity != 0:\n",
    "            print(f\"Assignment {bcolors.OKGREEN+assignment.name+bcolors.ENDC} Link!\")\n",
    "        self.assignment = assignment\n",
    "        return assignment\n",
    "                    \n",
    "    def load_gradescope_csv(self,\n",
    "                            csv_pf:str # csv file path \n",
    "                           ):\n",
    "        \"Load gradescope exported csv file\"\n",
    "        self.gradescope = pd.read_csv(csv_pf)\n",
    "        self.gradescope['Email'] = self.gradescope[\"Email\"].str.split(\"@\").str[0]\n",
    "        self.gradescope = self.gradescope.set_index(\"Email\")\n",
    "        self.gradescope = self.gradescope.fillna(0)\n",
    "        \n",
    "    def calculate_late_hour(self,\n",
    "                            target_assignment:str, # target assignment name. Must in the column of gradescope csv \n",
    "                           ) -> pd.Series: # late hours of the target assignment\n",
    "        \"Calculate the late hours of each submission of the target assignment\"\n",
    "        late_col_name = f\"{target_assignment} - Lateness (H:M:S)\"\n",
    "        late_col = self.gradescope[late_col_name]\n",
    "        # calculate how many slip day (hours) used for this assignment.\n",
    "        late_hours = (\n",
    "            late_col.str.split(\":\").str[0].astype(int) + \n",
    "            np.ceil(late_col.str.split(\":\").str[1].astype(int)/60)\n",
    "        )\n",
    "        return late_hours\n",
    "        \n",
    "    def calculate_credit_balance(self,\n",
    "                                 passed_assignments:[str], # list of passed assignment. Must in the column of gradescope csv\n",
    "                                 total_credit = 120 # total number of allowed late hours\n",
    "                                ) -> dict: # {email: credit balance} late credit balance of each students\n",
    "        \"Calculate the balance of late hours from the gradescope file\"\n",
    "        self.gradescope[\"late balance\"] = total_credit\n",
    "        for passed in passed_assignments:\n",
    "            late_hours = self.calculate_late_hour(passed)\n",
    "            self.gradescope[\"late balance\"] = self.gradescope[\"late balance\"] - late_hours\n",
    "        return self.gradescope[\"late balance\"]\n",
    "    \n",
    "    def calculate_total_score(self,\n",
    "                              components:[str], # components of a single assignment. Must in the column of gradescope csv\n",
    "                             ) -> pd.Series:\n",
    "        \"Calculate the total score of an assignment\"\n",
    "        self.gradescope[\"target_total\"] = 0\n",
    "        for component in components:\n",
    "            self.gradescope[\"target_total\"] += self.gradescope[component]\n",
    "        return self.gradescope[\"target_total\"]\n",
    "    \n",
    "    def _post_grade(self,\n",
    "                   student_id: int, # canvas student id of student. found in self.email_to_canvas_id\n",
    "                   grade: float, # grade of that assignment\n",
    "                   text_comment=\"\", # text comment of the submission. Can feed\n",
    "                  ) -> canvasapi.submission.Submission: # created submission\n",
    "        \"Post grade and comment to canvas to the target assignment\"\n",
    "        submission = self.assignment.get_submission(student_id)\n",
    "        edited = submission.edit(\n",
    "            submission={\n",
    "                'posted_grade': grade\n",
    "            }, comment={\n",
    "                'text_comment': text_comment\n",
    "            }\n",
    "        )\n",
    "        if self.verbosity != 0:\n",
    "            print(f\"Grade for {bcolors.OKGREEN+email+bcolors.ENDC} Posted!\")\n",
    "        return edited\n",
    "    \n",
    "    def post_to_canvas(self,\n",
    "                       target_assignment:str, # target assignment name to grab the late time. Must in the column of gradescope csv \n",
    "                       passed_assignments:[str], # list of passed assignment. Must in the column of gradescope csv\n",
    "                       components:[str], # components of a single assignment. Must in the column of gradescope csv\n",
    "                       post=True, # for testing purposes. Can hault the post operation\n",
    "                      ):\n",
    "        \"Post grade to canvas with late penalty.\"\n",
    "        if self.gradescope is None:\n",
    "            raise ValueError(\"Gradescope CSV has not been loaded. Please set it via process_grade.load_gradescope_csv\")\n",
    "        credit_balance = self.calculate_credit_balance(passed_assignments)\n",
    "        late_hours = self.calculate_late_hour(target_assignment)\n",
    "        if len(components) > 1:\n",
    "            total_score = self.calculate_total_score(components)\n",
    "        else:\n",
    "            total_score = self.gradescope[target_assignment]\n",
    "        # Post Grade\n",
    "        for email, _ in self.gradescope.iterrows():\n",
    "            remaining = credit_balance[email]\n",
    "            score, slip_hour = round(total_score[email], 4), late_hours[email]\n",
    "            message = f\"{target_assignment}: \\n\"\n",
    "            if slip_hour > 0:\n",
    "                # means late submission. Check remaining slip day\n",
    "                message += f\"Late Submission: {int(slip_hour)} Hours Late\\n\"\n",
    "                if remaining - slip_hour < 0:\n",
    "                    message += \"Insufficient Slip Credit. 25% late penalty applied\\n\"\n",
    "                    score = round(score * 0.75, 4)\n",
    "                else:\n",
    "                    message += \"Slip Credit Used. No late penalty applied\\n\"\n",
    "            else:\n",
    "                message += \"Submitted intime\\n\"\n",
    "            balance_after = remaining - slip_hour\n",
    "            message += f\"Remaining Slip Credit: {int(balance_after)} Hours\"\n",
    "            try:\n",
    "                if post:\n",
    "                    student_id = self.email_to_canvas_id[email.split(\"@\")[0]]\n",
    "                    self._post_grade(grade=score, student_id=student_id, text_comment=message)\n",
    "                else:\n",
    "                    print(f\"{bcolors.WARNING}Post Disabled{bcolors.ENDC}\\n\"\n",
    "                          f\"The message is: \\n{bcolors.OKGREEN+message+bcolors.ENDC}\"\n",
    "                         )\n",
    "            except Exception as e:\n",
    "                print(f\"Studnet: {bcolors.WARNING+email+bcolors.ENDC} Not found on canvas. \\n\"\n",
    "                      f\"Maybe Testing Account or Dropped Student\")\n",
    "                print(e)\n",
    "                pass\n",
    "        "
   ]
  },
  {
   "cell_type": "code",
   "execution_count": null,
   "metadata": {},
   "outputs": [
    {
     "data": {
      "text/markdown": [
       "---\n",
       "\n",
       "[source](https://github.com/scott-yj-yang/GradescopeLatePenalty/blob/main/GradescopeLatePenalty/gradescope.py#L27){target=\"_blank\" style=\"float:right; font-size:smaller\"}\n",
       "\n",
       "### gradescope_grade\n",
       "\n",
       ">      gradescope_grade (credentials_fp='', API_URL='https://canvas.ucsd.edu',\n",
       ">                        course_id='', assignment_id=-1, gradescope_fp='',\n",
       ">                        verbosity=0)\n",
       "\n",
       "Initialize Canvas Group within a Group Set and its appropriate memberships\n",
       "\n",
       "|    | **Type** | **Default** | **Details** |\n",
       "| -- | -------- | ----------- | ----------- |\n",
       "| credentials_fp | str |  | credential file path. [Template of the credentials.json](https://github.com/FleischerResearchLab/CanvasGroupy/blob/main/nbs/credentials.json) |\n",
       "| API_URL | str | https://canvas.ucsd.edu | the domain name of canvas |\n",
       "| course_id | str |  | Course ID, can be found in the course url |\n",
       "| assignment_id | int | -1 | assignment id, can be found in the canvas assignment url |\n",
       "| gradescope_fp | str |  | gradescope csv file path |\n",
       "| verbosity | int | 0 | Controls the verbosity: 0 = Silent, 1 = print all messages |"
      ],
      "text/plain": [
       "---\n",
       "\n",
       "[source](https://github.com/scott-yj-yang/GradescopeLatePenalty/blob/main/GradescopeLatePenalty/gradescope.py#L27){target=\"_blank\" style=\"float:right; font-size:smaller\"}\n",
       "\n",
       "### gradescope_grade\n",
       "\n",
       ">      gradescope_grade (credentials_fp='', API_URL='https://canvas.ucsd.edu',\n",
       ">                        course_id='', assignment_id=-1, gradescope_fp='',\n",
       ">                        verbosity=0)\n",
       "\n",
       "Initialize Canvas Group within a Group Set and its appropriate memberships\n",
       "\n",
       "|    | **Type** | **Default** | **Details** |\n",
       "| -- | -------- | ----------- | ----------- |\n",
       "| credentials_fp | str |  | credential file path. [Template of the credentials.json](https://github.com/FleischerResearchLab/CanvasGroupy/blob/main/nbs/credentials.json) |\n",
       "| API_URL | str | https://canvas.ucsd.edu | the domain name of canvas |\n",
       "| course_id | str |  | Course ID, can be found in the course url |\n",
       "| assignment_id | int | -1 | assignment id, can be found in the canvas assignment url |\n",
       "| gradescope_fp | str |  | gradescope csv file path |\n",
       "| verbosity | int | 0 | Controls the verbosity: 0 = Silent, 1 = print all messages |"
      ]
     },
     "execution_count": null,
     "metadata": {},
     "output_type": "execute_result"
    }
   ],
   "source": [
    "show_doc(gradescope_grade)"
   ]
  },
  {
   "cell_type": "code",
   "execution_count": null,
   "metadata": {},
   "outputs": [
    {
     "data": {
      "text/markdown": [
       "---\n",
       "\n",
       "[source](https://github.com/scott-yj-yang/GradescopeLatePenalty/blob/main/GradescopeLatePenalty/gradescope.py#L58){target=\"_blank\" style=\"float:right; font-size:smaller\"}\n",
       "\n",
       "### gradescope_grade.auth_canvas\n",
       "\n",
       ">      gradescope_grade.auth_canvas (credentials_fp:str)\n",
       "\n",
       "Authorize the canvas module with API_KEY\n",
       "\n",
       "|    | **Type** | **Details** |\n",
       "| -- | -------- | ----------- |\n",
       "| credentials_fp | str | the Authenticator key generated from canvas |"
      ],
      "text/plain": [
       "---\n",
       "\n",
       "[source](https://github.com/scott-yj-yang/GradescopeLatePenalty/blob/main/GradescopeLatePenalty/gradescope.py#L58){target=\"_blank\" style=\"float:right; font-size:smaller\"}\n",
       "\n",
       "### gradescope_grade.auth_canvas\n",
       "\n",
       ">      gradescope_grade.auth_canvas (credentials_fp:str)\n",
       "\n",
       "Authorize the canvas module with API_KEY\n",
       "\n",
       "|    | **Type** | **Details** |\n",
       "| -- | -------- | ----------- |\n",
       "| credentials_fp | str | the Authenticator key generated from canvas |"
      ]
     },
     "execution_count": null,
     "metadata": {},
     "output_type": "execute_result"
    }
   ],
   "source": [
    "show_doc(gradescope_grade.auth_canvas)"
   ]
  },
  {
   "cell_type": "code",
   "execution_count": null,
   "metadata": {},
   "outputs": [
    {
     "data": {
      "text/markdown": [
       "---\n",
       "\n",
       "[source](https://github.com/scott-yj-yang/GradescopeLatePenalty/blob/main/GradescopeLatePenalty/gradescope.py#L72){target=\"_blank\" style=\"float:right; font-size:smaller\"}\n",
       "\n",
       "### gradescope_grade.set_course\n",
       "\n",
       ">      gradescope_grade.set_course (course_id:int)\n",
       "\n",
       "Set the target course by the course ID\n",
       "\n",
       "|    | **Type** | **Details** |\n",
       "| -- | -------- | ----------- |\n",
       "| course_id | int | the course id of the target course |"
      ],
      "text/plain": [
       "---\n",
       "\n",
       "[source](https://github.com/scott-yj-yang/GradescopeLatePenalty/blob/main/GradescopeLatePenalty/gradescope.py#L72){target=\"_blank\" style=\"float:right; font-size:smaller\"}\n",
       "\n",
       "### gradescope_grade.set_course\n",
       "\n",
       ">      gradescope_grade.set_course (course_id:int)\n",
       "\n",
       "Set the target course by the course ID\n",
       "\n",
       "|    | **Type** | **Details** |\n",
       "| -- | -------- | ----------- |\n",
       "| course_id | int | the course id of the target course |"
      ]
     },
     "execution_count": null,
     "metadata": {},
     "output_type": "execute_result"
    }
   ],
   "source": [
    "show_doc(gradescope_grade.set_course)"
   ]
  },
  {
   "cell_type": "code",
   "execution_count": null,
   "metadata": {},
   "outputs": [
    {
     "data": {
      "text/markdown": [
       "---\n",
       "\n",
       "[source](https://github.com/scott-yj-yang/GradescopeLatePenalty/blob/main/GradescopeLatePenalty/gradescope.py#L94){target=\"_blank\" style=\"float:right; font-size:smaller\"}\n",
       "\n",
       "### gradescope_grade.link_assignment\n",
       "\n",
       ">      gradescope_grade.link_assignment (assignment_id:int)\n",
       "\n",
       "Link the target assignment on canvas\n",
       "\n",
       "|    | **Type** | **Details** |\n",
       "| -- | -------- | ----------- |\n",
       "| assignment_id | int | assignment id, found at the url of assignmnet tab |\n",
       "| **Returns** | **Assignment** | **target assignment** |"
      ],
      "text/plain": [
       "---\n",
       "\n",
       "[source](https://github.com/scott-yj-yang/GradescopeLatePenalty/blob/main/GradescopeLatePenalty/gradescope.py#L94){target=\"_blank\" style=\"float:right; font-size:smaller\"}\n",
       "\n",
       "### gradescope_grade.link_assignment\n",
       "\n",
       ">      gradescope_grade.link_assignment (assignment_id:int)\n",
       "\n",
       "Link the target assignment on canvas\n",
       "\n",
       "|    | **Type** | **Details** |\n",
       "| -- | -------- | ----------- |\n",
       "| assignment_id | int | assignment id, found at the url of assignmnet tab |\n",
       "| **Returns** | **Assignment** | **target assignment** |"
      ]
     },
     "execution_count": null,
     "metadata": {},
     "output_type": "execute_result"
    }
   ],
   "source": [
    "show_doc(gradescope_grade.link_assignment)"
   ]
  },
  {
   "cell_type": "code",
   "execution_count": null,
   "metadata": {},
   "outputs": [
    {
     "data": {
      "text/markdown": [
       "---\n",
       "\n",
       "[source](https://github.com/scott-yj-yang/GradescopeLatePenalty/blob/main/GradescopeLatePenalty/gradescope.py#L104){target=\"_blank\" style=\"float:right; font-size:smaller\"}\n",
       "\n",
       "### gradescope_grade.load_gradescope_csv\n",
       "\n",
       ">      gradescope_grade.load_gradescope_csv (csv_pf:str)\n",
       "\n",
       "Load gradescope exported csv file\n",
       "\n",
       "|    | **Type** | **Details** |\n",
       "| -- | -------- | ----------- |\n",
       "| csv_pf | str | csv file path |"
      ],
      "text/plain": [
       "---\n",
       "\n",
       "[source](https://github.com/scott-yj-yang/GradescopeLatePenalty/blob/main/GradescopeLatePenalty/gradescope.py#L104){target=\"_blank\" style=\"float:right; font-size:smaller\"}\n",
       "\n",
       "### gradescope_grade.load_gradescope_csv\n",
       "\n",
       ">      gradescope_grade.load_gradescope_csv (csv_pf:str)\n",
       "\n",
       "Load gradescope exported csv file\n",
       "\n",
       "|    | **Type** | **Details** |\n",
       "| -- | -------- | ----------- |\n",
       "| csv_pf | str | csv file path |"
      ]
     },
     "execution_count": null,
     "metadata": {},
     "output_type": "execute_result"
    }
   ],
   "source": [
    "show_doc(gradescope_grade.load_gradescope_csv)"
   ]
  },
  {
   "cell_type": "code",
   "execution_count": null,
   "metadata": {},
   "outputs": [
    {
     "data": {
      "text/markdown": [
       "---\n",
       "\n",
       "[source](https://github.com/scott-yj-yang/GradescopeLatePenalty/blob/main/GradescopeLatePenalty/gradescope.py#L113){target=\"_blank\" style=\"float:right; font-size:smaller\"}\n",
       "\n",
       "### gradescope_grade.calculate_late_hour\n",
       "\n",
       ">      gradescope_grade.calculate_late_hour (target_assignment:str)\n",
       "\n",
       "Calculate the late hours of each submission of the target assignment\n",
       "\n",
       "|    | **Type** | **Details** |\n",
       "| -- | -------- | ----------- |\n",
       "| target_assignment | str | target assignment name. Must in the column of gradescope csv |\n",
       "| **Returns** | **Series** | **late hours of the target assignment** |"
      ],
      "text/plain": [
       "---\n",
       "\n",
       "[source](https://github.com/scott-yj-yang/GradescopeLatePenalty/blob/main/GradescopeLatePenalty/gradescope.py#L113){target=\"_blank\" style=\"float:right; font-size:smaller\"}\n",
       "\n",
       "### gradescope_grade.calculate_late_hour\n",
       "\n",
       ">      gradescope_grade.calculate_late_hour (target_assignment:str)\n",
       "\n",
       "Calculate the late hours of each submission of the target assignment\n",
       "\n",
       "|    | **Type** | **Details** |\n",
       "| -- | -------- | ----------- |\n",
       "| target_assignment | str | target assignment name. Must in the column of gradescope csv |\n",
       "| **Returns** | **Series** | **late hours of the target assignment** |"
      ]
     },
     "execution_count": null,
     "metadata": {},
     "output_type": "execute_result"
    }
   ],
   "source": [
    "show_doc(gradescope_grade.calculate_late_hour)"
   ]
  },
  {
   "cell_type": "code",
   "execution_count": null,
   "metadata": {},
   "outputs": [
    {
     "data": {
      "text/markdown": [
       "---\n",
       "\n",
       "[source](https://github.com/scott-yj-yang/GradescopeLatePenalty/blob/main/GradescopeLatePenalty/gradescope.py#L126){target=\"_blank\" style=\"float:right; font-size:smaller\"}\n",
       "\n",
       "### gradescope_grade.calculate_credit_balance\n",
       "\n",
       ">      gradescope_grade.calculate_credit_balance\n",
       ">                                                 (passed_assignments:[<class'st\n",
       ">                                                 r'>], total_credit=120)\n",
       "\n",
       "Calculate the balance of late hours from the gradescope file\n",
       "\n",
       "|    | **Type** | **Default** | **Details** |\n",
       "| -- | -------- | ----------- | ----------- |\n",
       "| passed_assignments | [<class 'str'>] |  | list of passed assignment. Must in the column of gradescope csv |\n",
       "| total_credit | int | 120 | total number of allowed late hours |\n",
       "| **Returns** | **dict** |  | **{email: credit balance} late credit balance of each students** |"
      ],
      "text/plain": [
       "---\n",
       "\n",
       "[source](https://github.com/scott-yj-yang/GradescopeLatePenalty/blob/main/GradescopeLatePenalty/gradescope.py#L126){target=\"_blank\" style=\"float:right; font-size:smaller\"}\n",
       "\n",
       "### gradescope_grade.calculate_credit_balance\n",
       "\n",
       ">      gradescope_grade.calculate_credit_balance\n",
       ">                                                 (passed_assignments:[<class'st\n",
       ">                                                 r'>], total_credit=120)\n",
       "\n",
       "Calculate the balance of late hours from the gradescope file\n",
       "\n",
       "|    | **Type** | **Default** | **Details** |\n",
       "| -- | -------- | ----------- | ----------- |\n",
       "| passed_assignments | [<class 'str'>] |  | list of passed assignment. Must in the column of gradescope csv |\n",
       "| total_credit | int | 120 | total number of allowed late hours |\n",
       "| **Returns** | **dict** |  | **{email: credit balance} late credit balance of each students** |"
      ]
     },
     "execution_count": null,
     "metadata": {},
     "output_type": "execute_result"
    }
   ],
   "source": [
    "show_doc(gradescope_grade.calculate_credit_balance)"
   ]
  },
  {
   "cell_type": "code",
   "execution_count": null,
   "metadata": {},
   "outputs": [
    {
     "data": {
      "text/markdown": [
       "---\n",
       "\n",
       "[source](https://github.com/scott-yj-yang/GradescopeLatePenalty/blob/main/GradescopeLatePenalty/gradescope.py#L137){target=\"_blank\" style=\"float:right; font-size:smaller\"}\n",
       "\n",
       "### gradescope_grade.calculate_total_score\n",
       "\n",
       ">      gradescope_grade.calculate_total_score (components:[<class'str'>])\n",
       "\n",
       "Calculate the total score of an assignment\n",
       "\n",
       "|    | **Type** | **Details** |\n",
       "| -- | -------- | ----------- |\n",
       "| components | [<class 'str'>] | components of a single assignment. Must in the column of gradescope csv |\n",
       "| **Returns** | **Series** |  |"
      ],
      "text/plain": [
       "---\n",
       "\n",
       "[source](https://github.com/scott-yj-yang/GradescopeLatePenalty/blob/main/GradescopeLatePenalty/gradescope.py#L137){target=\"_blank\" style=\"float:right; font-size:smaller\"}\n",
       "\n",
       "### gradescope_grade.calculate_total_score\n",
       "\n",
       ">      gradescope_grade.calculate_total_score (components:[<class'str'>])\n",
       "\n",
       "Calculate the total score of an assignment\n",
       "\n",
       "|    | **Type** | **Details** |\n",
       "| -- | -------- | ----------- |\n",
       "| components | [<class 'str'>] | components of a single assignment. Must in the column of gradescope csv |\n",
       "| **Returns** | **Series** |  |"
      ]
     },
     "execution_count": null,
     "metadata": {},
     "output_type": "execute_result"
    }
   ],
   "source": [
    "show_doc(gradescope_grade.calculate_total_score)"
   ]
  },
  {
   "cell_type": "code",
   "execution_count": null,
   "metadata": {},
   "outputs": [
    {
     "data": {
      "text/markdown": [
       "---\n",
       "\n",
       "[source](https://github.com/scott-yj-yang/GradescopeLatePenalty/blob/main/GradescopeLatePenalty/gradescope.py#L146){target=\"_blank\" style=\"float:right; font-size:smaller\"}\n",
       "\n",
       "### gradescope_grade._post_grade\n",
       "\n",
       ">      gradescope_grade._post_grade (student_id:int, grade:float,\n",
       ">                                    text_comment='')\n",
       "\n",
       "Post grade and comment to canvas to the target assignment\n",
       "\n",
       "|    | **Type** | **Default** | **Details** |\n",
       "| -- | -------- | ----------- | ----------- |\n",
       "| student_id | int |  | canvas student id of student. found in self.email_to_canvas_id |\n",
       "| grade | float |  | grade of that assignment |\n",
       "| text_comment | str |  | text comment of the submission. Can feed |\n",
       "| **Returns** | **Submission** |  | **created submission** |"
      ],
      "text/plain": [
       "---\n",
       "\n",
       "[source](https://github.com/scott-yj-yang/GradescopeLatePenalty/blob/main/GradescopeLatePenalty/gradescope.py#L146){target=\"_blank\" style=\"float:right; font-size:smaller\"}\n",
       "\n",
       "### gradescope_grade._post_grade\n",
       "\n",
       ">      gradescope_grade._post_grade (student_id:int, grade:float,\n",
       ">                                    text_comment='')\n",
       "\n",
       "Post grade and comment to canvas to the target assignment\n",
       "\n",
       "|    | **Type** | **Default** | **Details** |\n",
       "| -- | -------- | ----------- | ----------- |\n",
       "| student_id | int |  | canvas student id of student. found in self.email_to_canvas_id |\n",
       "| grade | float |  | grade of that assignment |\n",
       "| text_comment | str |  | text comment of the submission. Can feed |\n",
       "| **Returns** | **Submission** |  | **created submission** |"
      ]
     },
     "execution_count": null,
     "metadata": {},
     "output_type": "execute_result"
    }
   ],
   "source": [
    "show_doc(gradescope_grade._post_grade)"
   ]
  },
  {
   "cell_type": "code",
   "execution_count": null,
   "metadata": {},
   "outputs": [
    {
     "data": {
      "text/markdown": [
       "---\n",
       "\n",
       "[source](https://github.com/scott-yj-yang/GradescopeLatePenalty/blob/main/GradescopeLatePenalty/gradescope.py#L164){target=\"_blank\" style=\"float:right; font-size:smaller\"}\n",
       "\n",
       "### gradescope_grade.post_to_canvas\n",
       "\n",
       ">      gradescope_grade.post_to_canvas (target_assignment:str,\n",
       ">                                       passed_assignments:[<class'str'>],\n",
       ">                                       components:[<class'str'>], post=True)\n",
       "\n",
       "Post grade to canvas with late penalty.\n",
       "\n",
       "|    | **Type** | **Default** | **Details** |\n",
       "| -- | -------- | ----------- | ----------- |\n",
       "| target_assignment | str |  | target assignment name to grab the late time. Must in the column of gradescope csv |\n",
       "| passed_assignments | [<class 'str'>] |  | list of passed assignment. Must in the column of gradescope csv |\n",
       "| components | [<class 'str'>] |  | components of a single assignment. Must in the column of gradescope csv |\n",
       "| post | bool | True | for testing purposes. Can hault the post operation |"
      ],
      "text/plain": [
       "---\n",
       "\n",
       "[source](https://github.com/scott-yj-yang/GradescopeLatePenalty/blob/main/GradescopeLatePenalty/gradescope.py#L164){target=\"_blank\" style=\"float:right; font-size:smaller\"}\n",
       "\n",
       "### gradescope_grade.post_to_canvas\n",
       "\n",
       ">      gradescope_grade.post_to_canvas (target_assignment:str,\n",
       ">                                       passed_assignments:[<class'str'>],\n",
       ">                                       components:[<class'str'>], post=True)\n",
       "\n",
       "Post grade to canvas with late penalty.\n",
       "\n",
       "|    | **Type** | **Default** | **Details** |\n",
       "| -- | -------- | ----------- | ----------- |\n",
       "| target_assignment | str |  | target assignment name to grab the late time. Must in the column of gradescope csv |\n",
       "| passed_assignments | [<class 'str'>] |  | list of passed assignment. Must in the column of gradescope csv |\n",
       "| components | [<class 'str'>] |  | components of a single assignment. Must in the column of gradescope csv |\n",
       "| post | bool | True | for testing purposes. Can hault the post operation |"
      ]
     },
     "execution_count": null,
     "metadata": {},
     "output_type": "execute_result"
    }
   ],
   "source": [
    "show_doc(gradescope_grade.post_to_canvas)"
   ]
  },
  {
   "cell_type": "code",
   "execution_count": null,
   "metadata": {},
   "outputs": [],
   "source": [
    "#| hide\n",
    "# grade.calculate_credit_balance([\"Assignment 1\"])"
   ]
  },
  {
   "cell_type": "code",
   "execution_count": null,
   "metadata": {},
   "outputs": [],
   "source": [
    "#| hide\n",
    "# grade.calculate_total_score([\"Assignment 1\", \"Assignment 1 - Manual Grading\"])"
   ]
  },
  {
   "cell_type": "code",
   "execution_count": null,
   "metadata": {},
   "outputs": [],
   "source": [
    "#| hide\n",
    "# grade.calculate_late_hour(\"Assignment 1\")"
   ]
  },
  {
   "cell_type": "code",
   "execution_count": null,
   "metadata": {},
   "outputs": [],
   "source": [
    "#| hide\n",
    "# # This is forbidden... Ask for the privilage?\n",
    "# assignment.submit(\n",
    "#     submission={\n",
    "#         \"submission_type\": \"oneline_upload\",\n",
    "#         \"user_id\": student_id,\n",
    "#         \"submitted_at\": submission_time\n",
    "#     }\n",
    "# )"
   ]
  },
  {
   "cell_type": "code",
   "execution_count": null,
   "metadata": {},
   "outputs": [],
   "source": [
    "#| hide\n",
    "import nbdev; nbdev.nbdev_export()"
   ]
  }
 ],
 "metadata": {
  "kernelspec": {
   "display_name": "python3",
   "language": "python",
   "name": "python3"
  }
 },
 "nbformat": 4,
 "nbformat_minor": 4
}
