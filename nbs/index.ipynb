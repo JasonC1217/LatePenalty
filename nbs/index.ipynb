{
 "cells": [
  {
   "cell_type": "code",
   "execution_count": null,
   "metadata": {},
   "outputs": [],
   "source": [
    "#| hide\n",
    "from nbdev.showdoc import *\n",
    "import numpy as np\n",
    "import pandas as pd\n",
    "import json"
   ]
  },
  {
   "cell_type": "markdown",
   "metadata": {},
   "source": [
    "# Getting Started\n",
    "\n",
    "> `LatePenalty`: Late Penalty Scoring System"
   ]
  },
  {
   "cell_type": "markdown",
   "metadata": {},
   "source": [
    "## Install"
   ]
  },
  {
   "cell_type": "markdown",
   "metadata": {},
   "source": [
    "You can directly install from source\n",
    "\n",
    "```sh\n",
    "pip install git+https://github.com/scott-yj-yang/LatePenalty.git\n",
    "```"
   ]
  },
  {
   "cell_type": "markdown",
   "metadata": {},
   "source": [
    "## How to use"
   ]
  },
  {
   "cell_type": "markdown",
   "metadata": {},
   "source": [
    "View our tutorial:\n",
    "\n",
    "### [Gradescope](./tutorial/gradescope%20late%20penalty%20tutorial.html)\n",
    "\n",
    "### [nbgrader](./tutorial/nbgrader%20late%20penalty%20tutorial.html)"
   ]
  },
  {
   "cell_type": "markdown",
   "metadata": {},
   "source": [
    "# FAQ\n",
    "\n",
    "## Why do `LatePenalty` Exist?\n",
    "\n",
    "This module supports both gradescope and nbgrader. Gradescope is an interface where students can hand in their homework, programming assignments, and even exams. Gradescope does accept late submission after the official deadline, but it does not support well with the late penalty of late submission, according to the course policy. In other words, gradescope accepts late submission, but does nothing to disincentive the late submissions. `LatePenalty` applies late penalty for the late submissions when we publish grades from gradescope to canvas, with custom messages for students about the allowance of the penalty.\n",
    "\n",
    "## Why not use `Post Grades to Canvas` on Gradescope?\n",
    "\n",
    "- No Late Penalty\n",
    "\n",
    "> Gradescope accepts late submissions from students, but the platform does not penalize late submissions. `Post Grades to Canvas` will post the raw score, shown on gradescope, to a specific assignment on canvas.\n",
    "\n",
    "- No Support for Multiple Components of a Single Assignment\n",
    "\n",
    "> Gradescope's `Post Grades to Canvas` is a one-to-one mapping from gradescope's assignment to canvas' assignment. In certain cases, where an assignment has multiple components (auto-graded notebook and handwritten math work), gradescope cannot combine the score to a single assignment. For example, let's say we have an assignment called `Assignment 1`, which has two components - `Assignment 1 - Autograder` and `Assignment 1 - Manual Grading` on gradescope. This package will combine two assignments into one and sync the canvas grade\n",
    "\n",
    "## Late Policy\n",
    "Some courses allow students to submit their work within a certain mercy period of time, also called _slip days_ or _slip hours_. Once\n",
    "\n",
    "In this module, we  the package `canvasapi` to"
   ]
  },
  {
   "cell_type": "markdown",
   "metadata": {},
   "source": [
    "## How to set credentials\n",
    "\n",
    "This package uses [canvas API](https://canvas.instructure.com/doc/api/) and its wrapper package [canvasapi](https://github.com/ucfopen/canvasapi) to post grades and comments to your target course's assignment. To do that, you'll have to provide the canvas credentials.\n",
    "\n",
    "In order to interact with this software, you'll have to create a `credentials.json` file that is in the following format:"
   ]
  },
  {
   "cell_type": "code",
   "execution_count": null,
   "metadata": {},
   "outputs": [
    {
     "name": "stdout",
     "output_type": "stream",
     "text": [
      "{'GitHub Token': 'token', 'Canvas Token': 'token'}\n"
     ]
    }
   ],
   "source": [
    "#|echo: false\n",
    "with open(\"../credentials.json\", \"r\") as f:\n",
    "    credentials = json.load(f)\n",
    "print(credentials)"
   ]
  },
  {
   "cell_type": "markdown",
   "metadata": {},
   "source": [
    "Whenever you create an object, you will need to authenticate via this `credentials.json` file through providing the file path to the object initializer. It will test whether the credential you provided is authenticate or not.\n",
    "\n",
    "## How to obtain credentials\n",
    "\n",
    "1. Login to Canvas\n",
    "2. On the left menu bar, click `Account` -> `Profile`\n",
    "3. At the profile page, click `Settings`\n",
    "4. Scroll down, at `Approved Integrations`, click `+ New Access Token`\n",
    "5. Name it, set expire date, and copy to the `credentials.json`"
   ]
  }
 ],
 "metadata": {
  "kernelspec": {
   "display_name": "python3",
   "language": "python",
   "name": "python3"
  }
 },
 "nbformat": 4,
 "nbformat_minor": 4
}
