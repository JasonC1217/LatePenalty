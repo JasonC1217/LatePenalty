{
 "cells": [
  {
   "cell_type": "code",
   "execution_count": null,
   "metadata": {},
   "outputs": [],
   "source": [
    "#| hide\n",
    "from nbdev.showdoc import *\n",
    "import numpy as np\n",
    "import pandas as pd\n",
    "import json"
   ]
  },
  {
   "cell_type": "markdown",
   "metadata": {},
   "source": [
    "# Gradescope / Nbgrader Late Penalty\n",
    "\n",
    "> Implement Late penalty scoring system and post grade to canvas"
   ]
  },
  {
   "cell_type": "markdown",
   "metadata": {},
   "source": [
    "This module support both gradescope and nbgrader."
   ]
  },
  {
   "cell_type": "markdown",
   "metadata": {},
   "source": [
    "## Install"
   ]
  },
  {
   "cell_type": "markdown",
   "metadata": {},
   "source": [
    "```sh\n",
    "pip install git+https://github.com/scott-yj-yang/LatePenalty.git\n",
    "```"
   ]
  },
  {
   "cell_type": "markdown",
   "metadata": {},
   "source": [
    "# How to use"
   ]
  },
  {
   "cell_type": "markdown",
   "metadata": {},
   "source": [
    "View our tutorial:\n",
    "\n",
    "## [Gradescope](https://scott-yj-yang.github.io/LatePenalty/tutorial/gradescope%20late%20penalty%20tutorial.html)\n",
    "\n",
    "## [nbgrader](https://scott-yj-yang.github.io/LatePenalty/tutorial/nbgrader%20late%20penalty%20tutorial.html)"
   ]
  },
  {
   "cell_type": "markdown",
   "metadata": {},
   "source": [
    "## How set credentials\n",
    "\n",
    "This package use [canvas API](https://canvas.instructure.com/doc/api/) and its wrapper pakacage [canvasapi](https://github.com/ucfopen/canvasapi) to post grades and comments to your target course's assignment. To do that, you'll have to provide the canvas credentials.\n",
    "\n",
    "In order to interact with this software, you'll have to create a `credentials.json` file that is in the following format:"
   ]
  },
  {
   "cell_type": "code",
   "execution_count": null,
   "metadata": {},
   "outputs": [
    {
     "name": "stdout",
     "output_type": "stream",
     "text": [
      "{'GitHub Token': 'token', 'Canvas Token': 'token'}\n"
     ]
    }
   ],
   "source": [
    "#|echo: false\n",
    "with open(\"../credentials.json\", \"r\") as f:\n",
    "    credentials = json.load(f)\n",
    "print(credentials)"
   ]
  },
  {
   "cell_type": "markdown",
   "metadata": {},
   "source": [
    "Whenever you create an object, you will need to authenticate via this `credentials.json` file through providing the file path to the object initializer. It will test whether the credential you provided is authenticate or not.\n",
    "\n",
    "## How to obtain credentials\n",
    "\n",
    "1. Login to Canvas\n",
    "2. On the left menu bar, click `Account` -> `Profile`\n",
    "3. At the profile page, click `Settings`\n",
    "4. Scroll down, at `Approved Integrations`, click `+ New Access Token`\n",
    "5. Name it, set expire date, and copy to the `credentials.json`"
   ]
  }
 ],
 "metadata": {
  "kernelspec": {
   "display_name": "python3",
   "language": "python",
   "name": "python3"
  }
 },
 "nbformat": 4,
 "nbformat_minor": 4
}
