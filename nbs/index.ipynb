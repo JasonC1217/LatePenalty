{
 "cells": [
  {
   "cell_type": "code",
   "execution_count": null,
   "metadata": {},
   "outputs": [],
   "source": [
    "#| hide\n",
    "from nbdev.showdoc import *"
   ]
  },
  {
   "cell_type": "code",
   "execution_count": null,
   "metadata": {},
   "outputs": [],
   "source": [
    "import numpy as np\n",
    "import pandas as pd"
   ]
  },
  {
   "cell_type": "markdown",
   "metadata": {},
   "source": [
    "# Gradescope / Nbgrader Late Penalty\n",
    "\n",
    "> Implement Late penalty scoring system and post grade to canvas"
   ]
  },
  {
   "cell_type": "markdown",
   "metadata": {},
   "source": [
    "This module support both gradescope and nbgrader."
   ]
  },
  {
   "cell_type": "markdown",
   "metadata": {},
   "source": [
    "## Install"
   ]
  },
  {
   "cell_type": "markdown",
   "metadata": {},
   "source": [
    "```sh\n",
    "pip install git+https://github.com/scott-yj-yang/LatePenalty.git\n",
    "```"
   ]
  },
  {
   "cell_type": "markdown",
   "metadata": {},
   "source": [
    "## How to use"
   ]
  },
  {
   "cell_type": "code",
   "execution_count": null,
   "metadata": {},
   "outputs": [],
   "source": [
    "from LatePenalty.gradescope import gradescope_grade"
   ]
  },
  {
   "cell_type": "code",
   "execution_count": null,
   "metadata": {},
   "outputs": [
    {
     "name": "stdout",
     "output_type": "stream",
     "text": [
      "\u001b[92mAuthorization Successful!\u001b[0m\n",
      "Course Set: \u001b[92m COGS 118A - Supvr/Mach Learning Algorithms - Fleischer [SP23] \u001b[0m\n",
      "Getting List of Users... This might take a while...\n",
      "Users Fetch Complete! The course has \u001b[94m173\u001b[0m users.\n",
      "Assignment \u001b[92mA1\u001b[0m Link!\n"
     ]
    }
   ],
   "source": [
    "grade = gradescope_grade(\"../../credentials.json\",\n",
    "                         course_id=45059,\n",
    "                         assignment_id=641795,\n",
    "                         gradescope_fp=\"data/gradescope_example.csv\",\n",
    "                         verbosity=1,\n",
    "                        )"
   ]
  },
  {
   "cell_type": "code",
   "execution_count": null,
   "metadata": {},
   "outputs": [
    {
     "data": {
      "text/html": [
       "<div>\n",
       "<style scoped>\n",
       "    .dataframe tbody tr th:only-of-type {\n",
       "        vertical-align: middle;\n",
       "    }\n",
       "\n",
       "    .dataframe tbody tr th {\n",
       "        vertical-align: top;\n",
       "    }\n",
       "\n",
       "    .dataframe thead th {\n",
       "        text-align: right;\n",
       "    }\n",
       "</style>\n",
       "<table border=\"1\" class=\"dataframe\">\n",
       "  <thead>\n",
       "    <tr style=\"text-align: right;\">\n",
       "      <th></th>\n",
       "      <th>First Name</th>\n",
       "      <th>Last Name</th>\n",
       "      <th>SID</th>\n",
       "      <th>Assignment 1</th>\n",
       "      <th>Assignment 1 - Manual Grading</th>\n",
       "      <th>Assignment 1 - Lateness (H:M:S)</th>\n",
       "    </tr>\n",
       "    <tr>\n",
       "      <th>Email</th>\n",
       "      <th></th>\n",
       "      <th></th>\n",
       "      <th></th>\n",
       "      <th></th>\n",
       "      <th></th>\n",
       "      <th></th>\n",
       "    </tr>\n",
       "  </thead>\n",
       "  <tbody>\n",
       "    <tr>\n",
       "      <th>kkdwdx</th>\n",
       "      <td>FVPqOMpv</td>\n",
       "      <td>jhjx</td>\n",
       "      <td>zPBPCJwDL</td>\n",
       "      <td>0.650</td>\n",
       "      <td>1.8</td>\n",
       "      <td>24:01:41</td>\n",
       "    </tr>\n",
       "    <tr>\n",
       "      <th>JhThhnUaOPDUIEb</th>\n",
       "      <td>BVTLaj</td>\n",
       "      <td>JL</td>\n",
       "      <td>bJhgVCFRz</td>\n",
       "      <td>0.900</td>\n",
       "      <td>2.1</td>\n",
       "      <td>00:00:00</td>\n",
       "    </tr>\n",
       "    <tr>\n",
       "      <th>dbAbqg</th>\n",
       "      <td>uaNTaJHacrK</td>\n",
       "      <td>PNrEkH</td>\n",
       "      <td>DqEMLsESM</td>\n",
       "      <td>0.475</td>\n",
       "      <td>1.9</td>\n",
       "      <td>00:00:00</td>\n",
       "    </tr>\n",
       "  </tbody>\n",
       "</table>\n",
       "</div>"
      ],
      "text/plain": [
       "                  First Name  ... Assignment 1 - Lateness (H:M:S)\n",
       "Email                         ...                                \n",
       "kkdwdx              FVPqOMpv  ...                        24:01:41\n",
       "JhThhnUaOPDUIEb       BVTLaj  ...                        00:00:00\n",
       "dbAbqg           uaNTaJHacrK  ...                        00:00:00\n",
       "\n",
       "[3 rows x 6 columns]"
      ]
     },
     "execution_count": null,
     "metadata": {},
     "output_type": "execute_result"
    }
   ],
   "source": [
    "# take a look at the csv file\n",
    "grade.gradescope"
   ]
  },
  {
   "cell_type": "markdown",
   "metadata": {},
   "source": [
    "Use `process_grade.post_to_canvas` to directly post to canvas"
   ]
  },
  {
   "cell_type": "code",
   "execution_count": null,
   "metadata": {},
   "outputs": [
    {
     "name": "stdout",
     "output_type": "stream",
     "text": [
      "\u001b[93mPost Disabled\u001b[0m\n",
      "The message is: \n",
      "\u001b[92mAssignment 1: \n",
      "Late Submission: 25 Hours Late\n",
      "Slip Credit Used. No late penalty applied\n",
      "Remaining Slip Credit: 95 Hours\u001b[0m\n",
      "\u001b[93mPost Disabled\u001b[0m\n",
      "The message is: \n",
      "\u001b[92mAssignment 1: \n",
      "Submitted intime\n",
      "Remaining Slip Credit: 120 Hours\u001b[0m\n",
      "\u001b[93mPost Disabled\u001b[0m\n",
      "The message is: \n",
      "\u001b[92mAssignment 1: \n",
      "Submitted intime\n",
      "Remaining Slip Credit: 120 Hours\u001b[0m\n"
     ]
    }
   ],
   "source": [
    "grade.post_to_canvas(\n",
    "    target_assignment=\"Assignment 1\",\n",
    "    passed_assignments=[],\n",
    "    components=[\"Assignment 1\", \"Assignment 1 - Manual Grading\"],\n",
    "    post=False\n",
    ")"
   ]
  }
 ],
 "metadata": {
  "kernelspec": {
   "display_name": "python3",
   "language": "python",
   "name": "python3"
  }
 },
 "nbformat": 4,
 "nbformat_minor": 4
}
