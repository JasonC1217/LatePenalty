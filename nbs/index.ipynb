{
 "cells": [
  {
   "cell_type": "code",
   "execution_count": null,
   "metadata": {},
   "outputs": [],
   "source": [
    "#| hide\n",
    "from GradescopeLatePenalty.process_grade import *\n",
    "from nbdev.showdoc import *"
   ]
  },
  {
   "cell_type": "code",
   "execution_count": null,
   "metadata": {},
   "outputs": [],
   "source": [
    "import numpy as np\n",
    "import pandas as pd\n",
    "import string"
   ]
  },
  {
   "cell_type": "markdown",
   "metadata": {},
   "source": [
    "# Gradescope Late Penalty\n",
    "\n",
    "> Implement Late penalty scoring system and post grade to canvas"
   ]
  },
  {
   "cell_type": "markdown",
   "metadata": {},
   "source": [
    "This file will become your README and also the index of your documentation."
   ]
  },
  {
   "cell_type": "markdown",
   "metadata": {},
   "source": [
    "## Install"
   ]
  },
  {
   "cell_type": "markdown",
   "metadata": {},
   "source": [
    "```sh\n",
    "pip install gradescope_late_peanlty\n",
    "```"
   ]
  },
  {
   "cell_type": "markdown",
   "metadata": {},
   "source": [
    "## How to use"
   ]
  },
  {
   "cell_type": "code",
   "execution_count": null,
   "metadata": {},
   "outputs": [],
   "source": [
    "from GradescopeLatePenalty.process_grade import process_grade"
   ]
  },
  {
   "cell_type": "code",
   "execution_count": null,
   "metadata": {},
   "outputs": [
    {
     "name": "stdout",
     "output_type": "stream",
     "text": [
      "\u001b[92mAuthorization Successful!\u001b[0m\n",
      "Course Set: \u001b[92m COGS 118A - Supvr/Mach Learning Algorithms - Fleischer [SP23] \u001b[0m\n",
      "Getting List of Users... This might take a while...\n",
      "Users Fetch Complete! The course has \u001b[94m173\u001b[0m users.\n",
      "Assignment \u001b[92mA1\u001b[0m Link!\n"
     ]
    }
   ],
   "source": [
    "grade = process_grade(\"../../credentials.json\",\n",
    "                      course_id=45059,\n",
    "                      assignment_id=641795,\n",
    "                      gradescope_fp=\"data/gradescope_example.csv\",\n",
    "                      verbosity=1,\n",
    "                     )"
   ]
  },
  {
   "cell_type": "code",
   "execution_count": null,
   "metadata": {},
   "outputs": [
    {
     "data": {
      "text/html": [
       "<div>\n",
       "<style scoped>\n",
       "    .dataframe tbody tr th:only-of-type {\n",
       "        vertical-align: middle;\n",
       "    }\n",
       "\n",
       "    .dataframe tbody tr th {\n",
       "        vertical-align: top;\n",
       "    }\n",
       "\n",
       "    .dataframe thead th {\n",
       "        text-align: right;\n",
       "    }\n",
       "</style>\n",
       "<table border=\"1\" class=\"dataframe\">\n",
       "  <thead>\n",
       "    <tr style=\"text-align: right;\">\n",
       "      <th></th>\n",
       "      <th>First Name</th>\n",
       "      <th>Last Name</th>\n",
       "      <th>SID</th>\n",
       "      <th>Assignment 1</th>\n",
       "      <th>Assignment 1 - Manual Grading</th>\n",
       "      <th>Assignment 1 - Lateness (H:M:S)</th>\n",
       "    </tr>\n",
       "    <tr>\n",
       "      <th>Email</th>\n",
       "      <th></th>\n",
       "      <th></th>\n",
       "      <th></th>\n",
       "      <th></th>\n",
       "      <th></th>\n",
       "      <th></th>\n",
       "    </tr>\n",
       "  </thead>\n",
       "  <tbody>\n",
       "    <tr>\n",
       "      <th>kkdwdx</th>\n",
       "      <td>FVPqOMpv</td>\n",
       "      <td>jhjx</td>\n",
       "      <td>zPBPCJwDL</td>\n",
       "      <td>0.650</td>\n",
       "      <td>1.8</td>\n",
       "      <td>24:01:41</td>\n",
       "    </tr>\n",
       "    <tr>\n",
       "      <th>JhThhnUaOPDUIEb</th>\n",
       "      <td>BVTLaj</td>\n",
       "      <td>JL</td>\n",
       "      <td>bJhgVCFRz</td>\n",
       "      <td>0.900</td>\n",
       "      <td>2.1</td>\n",
       "      <td>00:00:00</td>\n",
       "    </tr>\n",
       "    <tr>\n",
       "      <th>dbAbqg</th>\n",
       "      <td>uaNTaJHacrK</td>\n",
       "      <td>PNrEkH</td>\n",
       "      <td>DqEMLsESM</td>\n",
       "      <td>0.475</td>\n",
       "      <td>1.9</td>\n",
       "      <td>00:00:00</td>\n",
       "    </tr>\n",
       "  </tbody>\n",
       "</table>\n",
       "</div>"
      ],
      "text/plain": [
       "                  First Name Last Name        SID  Assignment 1  \\\n",
       "Email                                                             \n",
       "kkdwdx              FVPqOMpv      jhjx  zPBPCJwDL         0.650   \n",
       "JhThhnUaOPDUIEb       BVTLaj        JL  bJhgVCFRz         0.900   \n",
       "dbAbqg           uaNTaJHacrK    PNrEkH  DqEMLsESM         0.475   \n",
       "\n",
       "                 Assignment 1 - Manual Grading Assignment 1 - Lateness (H:M:S)  \n",
       "Email                                                                           \n",
       "kkdwdx                                     1.8                        24:01:41  \n",
       "JhThhnUaOPDUIEb                            2.1                        00:00:00  \n",
       "dbAbqg                                     1.9                        00:00:00  "
      ]
     },
     "execution_count": null,
     "metadata": {},
     "output_type": "execute_result"
    }
   ],
   "source": [
    "# take a look at the csv file\n",
    "grade.gradescope"
   ]
  },
  {
   "cell_type": "markdown",
   "metadata": {},
   "source": [
    "Use `process_grade.post_to_canvas` to directly post to canvas"
   ]
  },
  {
   "cell_type": "code",
   "execution_count": null,
   "metadata": {},
   "outputs": [
    {
     "data": {
      "text/markdown": [
       "---\n",
       "\n",
       "[source](https://github.com/scott-yj-yang/GradescopeLatePenalty/blob/main/GradescopeLatePenalty/process_grade.py#LNone){target=\"_blank\" style=\"float:right; font-size:smaller\"}\n",
       "\n",
       "### process_grade.post_to_canvas\n",
       "\n",
       ">      process_grade.post_to_canvas (target_assignment:str,\n",
       ">                                    passed_assignments:[<class'str'>],\n",
       ">                                    components:[<class'str'>], post=True)\n",
       "\n",
       "Post grade to canvas with late penalty.\n",
       "\n",
       "|    | **Type** | **Default** | **Details** |\n",
       "| -- | -------- | ----------- | ----------- |\n",
       "| target_assignment | str |  | target assignment name to grab the late time. Must in the column of gradescope csv |\n",
       "| passed_assignments | [<class 'str'>] |  | list of passed assignment. Must in the column of gradescope csv |\n",
       "| components | [<class 'str'>] |  | components of a single assignment. Must in the column of gradescope csv |\n",
       "| post | bool | True | for testing purposes. Can hault the post operation |"
      ],
      "text/plain": [
       "---\n",
       "\n",
       "[source](https://github.com/scott-yj-yang/GradescopeLatePenalty/blob/main/GradescopeLatePenalty/process_grade.py#LNone){target=\"_blank\" style=\"float:right; font-size:smaller\"}\n",
       "\n",
       "### process_grade.post_to_canvas\n",
       "\n",
       ">      process_grade.post_to_canvas (target_assignment:str,\n",
       ">                                    passed_assignments:[<class'str'>],\n",
       ">                                    components:[<class'str'>], post=True)\n",
       "\n",
       "Post grade to canvas with late penalty.\n",
       "\n",
       "|    | **Type** | **Default** | **Details** |\n",
       "| -- | -------- | ----------- | ----------- |\n",
       "| target_assignment | str |  | target assignment name to grab the late time. Must in the column of gradescope csv |\n",
       "| passed_assignments | [<class 'str'>] |  | list of passed assignment. Must in the column of gradescope csv |\n",
       "| components | [<class 'str'>] |  | components of a single assignment. Must in the column of gradescope csv |\n",
       "| post | bool | True | for testing purposes. Can hault the post operation |"
      ]
     },
     "execution_count": null,
     "metadata": {},
     "output_type": "execute_result"
    }
   ],
   "source": [
    "show_doc(process_grade.post_to_canvas)"
   ]
  },
  {
   "cell_type": "code",
   "execution_count": null,
   "metadata": {},
   "outputs": [
    {
     "name": "stdout",
     "output_type": "stream",
     "text": [
      "\u001b[93mPost Disabled\u001b[0m\n",
      "The message is: \n",
      "\u001b[92mAssignment 1: \n",
      "Late Submission: 25 Hours Late\n",
      "Slip Credit Used. No late penalty applied\n",
      "Remaining Slip Credit: 95 Hours\u001b[0m\n",
      "\u001b[93mPost Disabled\u001b[0m\n",
      "The message is: \n",
      "\u001b[92mAssignment 1: \n",
      "Submitted intime\n",
      "Remaining Slip Credit: 120 Hours\u001b[0m\n",
      "\u001b[93mPost Disabled\u001b[0m\n",
      "The message is: \n",
      "\u001b[92mAssignment 1: \n",
      "Submitted intime\n",
      "Remaining Slip Credit: 120 Hours\u001b[0m\n"
     ]
    }
   ],
   "source": [
    "grade.post_to_canvas(\n",
    "    target_assignment=\"Assignment 1\",\n",
    "    passed_assignments=[],\n",
    "    components=[\"Assignment 1\", \"Assignment 1 - Manual Grading\"],\n",
    "    post=False\n",
    ")"
   ]
  },
  {
   "cell_type": "code",
   "execution_count": null,
   "metadata": {},
   "outputs": [],
   "source": []
  },
  {
   "cell_type": "code",
   "execution_count": null,
   "metadata": {},
   "outputs": [],
   "source": []
  }
 ],
 "metadata": {
  "kernelspec": {
   "display_name": "python3",
   "language": "python",
   "name": "python3"
  }
 },
 "nbformat": 4,
 "nbformat_minor": 4
}
